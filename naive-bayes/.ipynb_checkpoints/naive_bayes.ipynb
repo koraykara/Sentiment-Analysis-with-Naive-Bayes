{
 "cells": [
  {
   "cell_type": "code",
   "execution_count": 109,
   "metadata": {},
   "outputs": [],
   "source": [
    "import numpy as np\n",
    "import pandas as pd\n",
    "from sklearn.feature_extraction.text import CountVectorizer\n",
    "df = pd.read_csv(\"head.csv\")\n",
    "clf_label = \"sentiment_category\" # can be changed with topic_category\n",
    "X = df.the_document_tokens\n",
    "if(clf_label == \"sentiment_category\"):\n",
    "    y = df.sentiment_category\n",
    "elif(clf_label == \"topic_category\"):\n",
    "    y = df.topic_category\n"
   ]
  },
  {
   "cell_type": "code",
   "execution_count": 110,
   "metadata": {},
   "outputs": [
    {
     "name": "stdout",
     "output_type": "stream",
     "text": [
      "<class 'pandas.core.series.Series'>\n",
      "<class 'pandas.core.series.Series'>\n"
     ]
    }
   ],
   "source": [
    "print(type(X))\n",
    "print(type(y))"
   ]
  },
  {
   "cell_type": "code",
   "execution_count": 111,
   "metadata": {},
   "outputs": [
    {
     "name": "stdout",
     "output_type": "stream",
     "text": [
      "<class 'pandas.core.series.Series'>\n"
     ]
    },
    {
     "data": {
      "text/plain": [
       "pandas.core.series.Series"
      ]
     },
     "execution_count": 111,
     "metadata": {},
     "output_type": "execute_result"
    }
   ],
   "source": [
    "from sklearn.model_selection import train_test_split\n",
    "X_train, X_test, y_train, y_test = train_test_split(X,y,test_size=0.20)\n",
    "print(type(X_train))\n",
    "type(X_train)"
   ]
  },
  {
   "cell_type": "code",
   "execution_count": 62,
   "metadata": {},
   "outputs": [],
   "source": [
    "#vectorizer = CountVectorizer(stop_words='english')\n",
    "vectorizer = CountVectorizer()\n",
    "X_train = vectorizer.fit_transform(X_train) \n",
    "X_test = vectorizer.transform(X_test)"
   ]
  },
  {
   "cell_type": "code",
   "execution_count": 63,
   "metadata": {},
   "outputs": [
    {
     "data": {
      "text/plain": [
       "42110"
      ]
     },
     "execution_count": 63,
     "metadata": {},
     "output_type": "execute_result"
    }
   ],
   "source": [
    "feature_names = vectorizer.get_feature_names()\n",
    "len(feature_names)\n",
    "#len(vectorizer.vocabulary_)"
   ]
  },
  {
   "cell_type": "code",
   "execution_count": 64,
   "metadata": {},
   "outputs": [],
   "source": [
    "X_train = pd.DataFrame(X_train.toarray(), columns=feature_names) # converting Series to Dataframe\n",
    "X_test = pd.DataFrame(X_test.toarray(), columns=feature_names) # converting Series to Dataframe"
   ]
  },
  {
   "cell_type": "markdown",
   "metadata": {},
   "source": [
    "# Understanding the data"
   ]
  },
  {
   "cell_type": "code",
   "execution_count": 65,
   "metadata": {},
   "outputs": [],
   "source": [
    "X_train[clf_label+\"_label\"] = np.array(y_train, dtype='object')"
   ]
  },
  {
   "cell_type": "code",
   "execution_count": 33,
   "metadata": {},
   "outputs": [
    {
     "name": "stdout",
     "output_type": "stream",
     "text": [
      "<class 'pandas.core.frame.DataFrame'>\n",
      "RangeIndex: 9531 entries, 0 to 9530\n",
      "Columns: 42157 entries, 00 to sentiment_category_label\n",
      "dtypes: int64(42156), object(1)\n",
      "memory usage: 3.0+ GB\n",
      "None\n"
     ]
    }
   ],
   "source": [
    "print(X_train.info())"
   ]
  },
  {
   "cell_type": "code",
   "execution_count": 34,
   "metadata": {},
   "outputs": [],
   "source": [
    "categories = [category for category in X_train.sentiment_category_label.unique()]"
   ]
  },
  {
   "cell_type": "code",
   "execution_count": 35,
   "metadata": {},
   "outputs": [],
   "source": [
    "X_trains = {}\n",
    "for sent_category in categories:\n",
    "    X_trains[sent_category] = X_train[X_train['sentiment_category_label']==sent_category]\n",
    "    X_trains[sent_category] = X_trains[sent_category].iloc[: , :-1]\n"
   ]
  },
  {
   "cell_type": "code",
   "execution_count": 36,
   "metadata": {},
   "outputs": [
    {
     "data": {
      "text/plain": [
       "(4711, 4820)"
      ]
     },
     "execution_count": 36,
     "metadata": {},
     "output_type": "execute_result"
    }
   ],
   "source": [
    "len(X_trains[\"neg\"]), len(X_trains[\"pos\"]) # number of documents in negative and positive cases in training data"
   ]
  },
  {
   "cell_type": "code",
   "execution_count": 37,
   "metadata": {},
   "outputs": [],
   "source": [
    "max_freq_in_negative_case = {} # created to store most freqeunt words in negative labeled documents\n",
    "for word in X_trains[\"neg\"]:\n",
    "    freq = X_trains[\"neg\"][word].sum() # sum of the specific word in negative case \n",
    "    max_freq_in_negative_case[word] = freq"
   ]
  },
  {
   "cell_type": "code",
   "execution_count": 38,
   "metadata": {},
   "outputs": [
    {
     "name": "stdout",
     "output_type": "stream",
     "text": [
      "the ->freq:  32382\n",
      "to ->freq:  16716\n",
      "and ->freq:  16181\n",
      "of ->freq:  13062\n",
      "it ->freq:  12480\n",
      "is ->freq:  10421\n",
      "this ->freq:  9633\n",
      "that ->freq:  8048\n",
      "in ->freq:  7705\n",
      "for ->freq:  6060\n"
     ]
    }
   ],
   "source": [
    "max_freq_in_negative_case = dict(sorted(max_freq_in_negative_case.items(), key=lambda item: item[1], reverse=True))\n",
    "count = 1\n",
    "for key in max_freq_in_negative_case:\n",
    "    print(key,\"->freq: \",max_freq_in_negative_case[key])\n",
    "    if(count == 10): break\n",
    "    count+=1"
   ]
  },
  {
   "cell_type": "code",
   "execution_count": 39,
   "metadata": {},
   "outputs": [],
   "source": [
    "max_freq_in_positive_case = {} # created to store most freqeunt words in positive labeled documents\n",
    "for word in X_trains[\"pos\"]:\n",
    "    freq = X_trains[\"pos\"][word].sum() # sum of the specific word in positive case \n",
    "    max_freq_in_positive_case[word] = freq"
   ]
  },
  {
   "cell_type": "code",
   "execution_count": 40,
   "metadata": {},
   "outputs": [
    {
     "name": "stdout",
     "output_type": "stream",
     "text": [
      "the ->freq:  33460\n",
      "and ->freq:  18732\n",
      "to ->freq:  15864\n",
      "of ->freq:  14113\n",
      "it ->freq:  11862\n",
      "is ->freq:  11772\n",
      "this ->freq:  9305\n",
      "in ->freq:  8668\n",
      "that ->freq:  7057\n",
      "for ->freq:  6593\n"
     ]
    }
   ],
   "source": [
    "max_freq_in_positive_case = dict(sorted(max_freq_in_positive_case.items(), key=lambda item: item[1], reverse=True)) \n",
    "count = 1\n",
    "for key in max_freq_in_positive_case:\n",
    "    print(key,\"->freq: \",max_freq_in_positive_case[key])\n",
    "    if(count == 10): break\n",
    "    count+=1"
   ]
  },
  {
   "cell_type": "code",
   "execution_count": 41,
   "metadata": {},
   "outputs": [],
   "source": [
    "difference = {} # to store freqeuency difference of common words in positive and negative cases\n",
    "for key in max_freq_in_negative_case.keys(): \n",
    "    difference[key] = abs(max_freq_in_positive_case[key] - max_freq_in_negative_case[key])"
   ]
  },
  {
   "cell_type": "code",
   "execution_count": 42,
   "metadata": {},
   "outputs": [
    {
     "name": "stdout",
     "output_type": "stream",
     "text": [
      "and ->freq:  2551\n",
      "not ->freq:  1881\n",
      "was ->freq:  1470\n",
      "is ->freq:  1351\n",
      "great ->freq:  1190\n",
      "the ->freq:  1078\n",
      "of ->freq:  1051\n",
      "that ->freq:  991\n",
      "in ->freq:  963\n",
      "they ->freq:  888\n"
     ]
    }
   ],
   "source": [
    "difference = dict(sorted(difference.items(), key=lambda item: item[1], reverse=True))\n",
    "count = 1\n",
    "for key in difference:\n",
    "    print(key,\"->freq: \",difference[key])\n",
    "    if(count == 10): break\n",
    "    count+=1"
   ]
  },
  {
   "cell_type": "code",
   "execution_count": 43,
   "metadata": {},
   "outputs": [],
   "source": [
    "y_train = np.array(y_train, dtype='object')\n",
    "y_test = np.array(y_test, dtype='object')"
   ]
  },
  {
   "cell_type": "code",
   "execution_count": 44,
   "metadata": {},
   "outputs": [
    {
     "name": "stdout",
     "output_type": "stream",
     "text": [
      "['pos' 'neg' 'neg' ... 'neg' 'neg' 'pos']\n"
     ]
    }
   ],
   "source": [
    "print(y_train)"
   ]
  },
  {
   "cell_type": "markdown",
   "metadata": {},
   "source": [
    "# Implementing Naive Bayes"
   ]
  },
  {
   "cell_type": "code",
   "execution_count": 45,
   "metadata": {},
   "outputs": [],
   "source": [
    "# Naive Bayes Classifier (Works for both sentiment category and topic category)\n",
    "class NaiveBayesClassifier: \n",
    "    # outcomesPD is X, y is y_train -> dtype = 'object'\n",
    "    def fit(self, X, y_train, clf_label):\n",
    "        (unique, counts) = np.unique(y_train, return_counts=True) # count the unique number of classes in the category label\n",
    "        frequencies = np.asarray((unique, counts)).T \n",
    "        self.freq = {} # to store the frequency of the categories seperately\n",
    "        for category, frequency in frequencies:\n",
    "            self.freq[category] = frequency  # store the freqeuncy for each category\n",
    "        total_examples = sum(self.freq.values()) # total number of documents in the dataset\n",
    "        prob_category = {} # to store the category probabilities\n",
    "        for category in self.freq.keys():\n",
    "            prob_category[category] = self.freq[category] / total_examples # to calculate the probability of the category class\n",
    "        print(prob_category) # print the probabilities of each category seperately\n",
    "        number_of_word_in_category_case = {} # to store the number of word in the specific category\n",
    "        outcomesCategoryPD = {} # will be used in filtering the categories from the training data\n",
    "        prob_word_given_category = {} # category, word\n",
    "        for category in self.freq.keys(): \n",
    "            outcomesCategoryPD[category] = X[X[clf_label]==category] # filtering operation\n",
    "            number_of_word_in_category_case[category] = outcomesCategoryPD[category].iloc[: , :-1].values.sum() # total number of word is specific category case\n",
    "            prob_word_given_category[category] = {} # to store the conditional probability of each word for each class\n",
    "        vocabularies = [word for word in X.iloc[: , :-1]] # vocabularies in training data\n",
    "        vocab_size = len(vocabularies) # vocabulary size\n",
    "        prior_category = {} # to store the prior probability of any category\n",
    "        posterior_category = {} # to store the posterior information for each category\n",
    "        for category in self.freq.keys():\n",
    "            for word in vocabularies:\n",
    "                count_specific_word_in_category_case = outcomesCategoryPD[category][word].sum() + 1 # count the specific word in the specific category\n",
    "                prob_word_given_category[category][word] = np.log(count_specific_word_in_category_case / (number_of_word_in_category_case[category]+vocab_size)) # calculate the conditional probability using Laplace Smooting\n",
    "                prior_category[category] = np.log(prob_category[category]) # store the prior probability for each category\n",
    "                posterior_category[category] = prob_word_given_category[category][word] + prior_category[category]\n",
    "        return prior_category, prob_word_given_category,vocabularies,outcomesCategoryPD # return the prior category, conditional probabilities, vocabularies\n",
    "    \n",
    "    def predict(self, X): # X is X_test -> outcomesTestPD\n",
    "        test_views = []\n",
    "        for test_index in X.index:\n",
    "            test_features = X.loc[test_index]\n",
    "            test_features = test_features[test_features > 0]\n",
    "            test_view = [feature for feature in test_features.to_frame().T.columns]\n",
    "            test_views.append(test_view)\n",
    "        test_views\n",
    "        print(len(test_views[0]))\n",
    "        y_pred = np.array([]).astype(np.object)\n",
    "        for view in test_views:\n",
    "            posterior_for_category = {}\n",
    "            for category in self.freq.keys():\n",
    "                posterior_for_category[category] = prior_category[category]\n",
    "                for token in view:\n",
    "                    if(token in vocabularies):\n",
    "                        posterior_for_category[category] += prob_word_given_category[category][token] # sum all the log likelihood with the prior probability \n",
    "            max_key = max(posterior_for_category, key=posterior_for_category.get) # return argmax of the predicted class\n",
    "            y_pred = np.append(y_pred, max_key) # append the predicted class to y_pred \n",
    "        return y_pred # return y_pred"
   ]
  },
  {
   "cell_type": "code",
   "execution_count": 46,
   "metadata": {},
   "outputs": [],
   "source": [
    "def calculate_accuracy(y_true, y_pred):\n",
    "    accuracy = np.sum(y_true == y_pred) / len(y_true)\n",
    "    return accuracy"
   ]
  },
  {
   "cell_type": "code",
   "execution_count": 47,
   "metadata": {},
   "outputs": [],
   "source": [
    "nb_clf_for_categories = NaiveBayesClassifier()"
   ]
  },
  {
   "cell_type": "code",
   "execution_count": 48,
   "metadata": {},
   "outputs": [
    {
     "name": "stdout",
     "output_type": "stream",
     "text": [
      "{'neg': 0.49428181722799286, 'pos': 0.5057181827720071}\n"
     ]
    }
   ],
   "source": [
    "prior_category, prob_word_given_category,vocabularies,outcomesCategoryPD = nb_clf_for_categories.fit(X_train,y_train,clf_label+\"_label\")"
   ]
  },
  {
   "cell_type": "code",
   "execution_count": 49,
   "metadata": {},
   "outputs": [
    {
     "name": "stdout",
     "output_type": "stream",
     "text": [
      "43\n"
     ]
    }
   ],
   "source": [
    "y_pred = nb_clf_for_categories.predict(X_test)"
   ]
  },
  {
   "cell_type": "code",
   "execution_count": 50,
   "metadata": {},
   "outputs": [],
   "source": [
    "accuracy = calculate_accuracy(y_test, y_pred)"
   ]
  },
  {
   "cell_type": "code",
   "execution_count": 51,
   "metadata": {},
   "outputs": [
    {
     "name": "stdout",
     "output_type": "stream",
     "text": [
      "0.8271086865295846\n"
     ]
    }
   ],
   "source": [
    "print(accuracy)"
   ]
  },
  {
   "cell_type": "code",
   "execution_count": 54,
   "metadata": {},
   "outputs": [
    {
     "name": "stdout",
     "output_type": "stream",
     "text": [
      "P(word='the'|label = neg) = -2.9500401714536966\n",
      "P(word='and'|label = neg) = -3.5301340785184228\n",
      "P(word='to'|label = neg) = -3.6963053279621856\n",
      "P(word='of'|label = neg) = -3.813253540418706\n",
      "P(word='it'|label = neg) = -3.986996440318378\n",
      "P(word='is'|label = neg) = -3.9946119789012844\n",
      "P(word='this'|label = neg) = -4.229761399574888\n",
      "P(word='in'|label = neg) = -4.300667309110841\n",
      "P(word='that'|label = neg) = -4.5062590277442665\n",
      "P(word='for'|label = neg) = -4.574260608347805\n"
     ]
    }
   ],
   "source": [
    "#prob_word_given_category[\"neg\"][\"like\"], prob_word_given_category[\"pos\"][\"like\"]\n",
    "#prob_word_given_category[\"neg\"][\"book\"], prob_word_given_category[\"pos\"][\"book\"]\n",
    "cond_neg = dict(sorted(prob_word_given_category[\"pos\"].items(), key=lambda item: item[1], reverse=True))\n",
    "count = 1\n",
    "for key in cond_neg:\n",
    "    print(\"P(word='{}'|{}) = {}\".format(key,\"label = neg\",cond_neg[key]))\n",
    "    if(count == 10): break\n",
    "    count+=1"
   ]
  },
  {
   "cell_type": "code",
   "execution_count": 55,
   "metadata": {},
   "outputs": [
    {
     "name": "stdout",
     "output_type": "stream",
     "text": [
      "P(word='the'|label = pos) = -2.9816102355855114\n",
      "P(word='to'|label = pos) = -3.6428176636065976\n",
      "P(word='and'|label = pos) = -3.6753443159414436\n",
      "P(word='of'|label = pos) = -3.8894600228226652\n",
      "P(word='it'|label = pos) = -3.935036341390775\n",
      "P(word='is'|label = pos) = -4.115324872840069\n",
      "P(word='this'|label = pos) = -4.193945321119062\n",
      "P(word='that'|label = pos) = -4.373695969215495\n",
      "P(word='in'|label = pos) = -4.417244583123126\n",
      "P(word='for'|label = pos) = -4.6573690263579435\n"
     ]
    }
   ],
   "source": [
    "cond_pos = dict(sorted(prob_word_given_category[\"neg\"].items(), key=lambda item: item[1], reverse=True))\n",
    "count = 1\n",
    "for key in cond_pos:\n",
    "    print(\"P(word='{}'|{}) = {}\".format(key,\"label = pos\",cond_pos[key]))\n",
    "    if(count == 10): break\n",
    "    count+=1"
   ]
  },
  {
   "cell_type": "code",
   "execution_count": 56,
   "metadata": {},
   "outputs": [],
   "source": [
    "def printConfusionMatrix(y_pred, y_test):\n",
    "    print(confusion_matrix(y_test, y_pred))\n",
    "    print(classification_report(y_test, y_pred))"
   ]
  },
  {
   "cell_type": "code",
   "execution_count": 57,
   "metadata": {},
   "outputs": [
    {
     "name": "stdout",
     "output_type": "stream",
     "text": [
      "[[1024  179]\n",
      " [ 233  947]]\n",
      "              precision    recall  f1-score   support\n",
      "\n",
      "         neg       0.81      0.85      0.83      1203\n",
      "         pos       0.84      0.80      0.82      1180\n",
      "\n",
      "    accuracy                           0.83      2383\n",
      "   macro avg       0.83      0.83      0.83      2383\n",
      "weighted avg       0.83      0.83      0.83      2383\n",
      "\n"
     ]
    }
   ],
   "source": [
    "from sklearn.metrics import classification_report, confusion_matrix\n",
    "printConfusionMatrix(y_pred, y_test)"
   ]
  },
  {
   "cell_type": "code",
   "execution_count": 58,
   "metadata": {},
   "outputs": [
    {
     "data": {
      "text/plain": [
       "(array(['pos', 'neg', 'neg', ..., 'neg', 'neg', 'pos'], dtype=object),\n",
       " array(['pos', 'pos', 'pos', ..., 'pos', 'neg', 'neg'], dtype=object))"
      ]
     },
     "execution_count": 58,
     "metadata": {},
     "output_type": "execute_result"
    }
   ],
   "source": [
    "y_train,y_test"
   ]
  },
  {
   "cell_type": "markdown",
   "metadata": {},
   "source": [
    "# Calculate Accuracy With The Sentiment Categories"
   ]
  },
  {
   "cell_type": "code",
   "execution_count": 66,
   "metadata": {},
   "outputs": [],
   "source": [
    "nb_clf_for_categories = NaiveBayesClassifier()"
   ]
  },
  {
   "cell_type": "code",
   "execution_count": 67,
   "metadata": {},
   "outputs": [
    {
     "name": "stdout",
     "output_type": "stream",
     "text": [
      "{'books': 0.1656699192109957, 'camera': 0.1692372258944497, 'dvd': 0.1685027804007974, 'health': 0.16650928548945546, 'music': 0.16692896862868534, 'software': 0.1631518203756164}\n"
     ]
    }
   ],
   "source": [
    "prior_category, prob_word_given_category,vocabularies,outcomesCategoryPD = nb_clf_for_categories.fit(X_train,y_train,clf_label+\"_label\")"
   ]
  },
  {
   "cell_type": "code",
   "execution_count": 68,
   "metadata": {},
   "outputs": [
    {
     "name": "stdout",
     "output_type": "stream",
     "text": [
      "23\n"
     ]
    }
   ],
   "source": [
    "y_pred = nb_clf_for_categories.predict(X_test)"
   ]
  },
  {
   "cell_type": "code",
   "execution_count": 69,
   "metadata": {},
   "outputs": [],
   "source": [
    "accuracy = calculate_accuracy(y_test, y_pred)"
   ]
  },
  {
   "cell_type": "code",
   "execution_count": 70,
   "metadata": {},
   "outputs": [
    {
     "name": "stdout",
     "output_type": "stream",
     "text": [
      "0.9139739823751574\n"
     ]
    }
   ],
   "source": [
    "print(accuracy)"
   ]
  },
  {
   "cell_type": "code",
   "execution_count": 71,
   "metadata": {},
   "outputs": [],
   "source": [
    "def printConfusionMatrix(y_pred, y_test):\n",
    "    print(confusion_matrix(y_test, y_pred))\n",
    "    print(classification_report(y_test, y_pred))"
   ]
  },
  {
   "cell_type": "code",
   "execution_count": 72,
   "metadata": {},
   "outputs": [
    {
     "name": "stdout",
     "output_type": "stream",
     "text": [
      "[[373   2  28   3   2  13]\n",
      " [  0 374   0   3   0   9]\n",
      " [ 20  10 335   1  18  10]\n",
      " [  1  24   0 375   3  10]\n",
      " [  5   0  13   2 386   3]\n",
      " [  6  10   7   1   1 335]]\n",
      "              precision    recall  f1-score   support\n",
      "\n",
      "       books       0.92      0.89      0.90       421\n",
      "      camera       0.89      0.97      0.93       386\n",
      "         dvd       0.87      0.85      0.86       394\n",
      "      health       0.97      0.91      0.94       413\n",
      "       music       0.94      0.94      0.94       409\n",
      "    software       0.88      0.93      0.91       360\n",
      "\n",
      "    accuracy                           0.91      2383\n",
      "   macro avg       0.91      0.91      0.91      2383\n",
      "weighted avg       0.92      0.91      0.91      2383\n",
      "\n"
     ]
    }
   ],
   "source": [
    "from sklearn.metrics import classification_report, confusion_matrix\n",
    "printConfusionMatrix(y_pred, y_test)"
   ]
  },
  {
   "cell_type": "code",
   "execution_count": 73,
   "metadata": {},
   "outputs": [
    {
     "data": {
      "text/plain": [
       "(4935    camera\n",
       " 8918    health\n",
       " 9083    camera\n",
       " 4090       dvd\n",
       " 9025     music\n",
       "          ...  \n",
       " 3109    camera\n",
       " 525      books\n",
       " 526     camera\n",
       " 9688     music\n",
       " 8308     books\n",
       " Name: topic_category, Length: 9531, dtype: object,\n",
       " 6794      camera\n",
       " 1273         dvd\n",
       " 7185       music\n",
       " 5616       music\n",
       " 1467       music\n",
       "           ...   \n",
       " 4965    software\n",
       " 5643      health\n",
       " 788       health\n",
       " 5357      camera\n",
       " 5841         dvd\n",
       " Name: topic_category, Length: 2383, dtype: object)"
      ]
     },
     "execution_count": 73,
     "metadata": {},
     "output_type": "execute_result"
    }
   ],
   "source": [
    "y_train,y_test"
   ]
  },
  {
   "cell_type": "markdown",
   "metadata": {},
   "source": [
    "# TF-IDF (using TfidfVectorizer)"
   ]
  },
  {
   "cell_type": "code",
   "execution_count": 93,
   "metadata": {},
   "outputs": [],
   "source": [
    "from sklearn.feature_extraction.text import TfidfVectorizer\n",
    "from sklearn.feature_extraction.text import ENGLISH_STOP_WORDS\n",
    "vectorizer = TfidfVectorizer(stop_words=ENGLISH_STOP_WORDS)"
   ]
  },
  {
   "cell_type": "code",
   "execution_count": 94,
   "metadata": {},
   "outputs": [],
   "source": [
    "X_train = vectorizer.fit_transform(X_train) \n",
    "X_test = vectorizer.transform(X_test)"
   ]
  },
  {
   "cell_type": "code",
   "execution_count": 95,
   "metadata": {},
   "outputs": [
    {
     "name": "stdout",
     "output_type": "stream",
     "text": [
      "42041\n"
     ]
    }
   ],
   "source": [
    "feature_names = vectorizer.get_feature_names()\n",
    "print(len(feature_names))"
   ]
  },
  {
   "cell_type": "code",
   "execution_count": 96,
   "metadata": {},
   "outputs": [],
   "source": [
    "X_train = pd.DataFrame(X_train.toarray(), columns=feature_names)\n",
    "X_test = pd.DataFrame(X_test.toarray(), columns=feature_names)"
   ]
  },
  {
   "cell_type": "code",
   "execution_count": 97,
   "metadata": {},
   "outputs": [],
   "source": [
    "X_train[clf_label+\"_label\"] = np.array(y_train, dtype='object')"
   ]
  },
  {
   "cell_type": "code",
   "execution_count": 98,
   "metadata": {},
   "outputs": [],
   "source": [
    "y_train = np.array(y_train, dtype='object')\n",
    "y_test = np.array(y_test, dtype='object')"
   ]
  },
  {
   "cell_type": "code",
   "execution_count": 99,
   "metadata": {},
   "outputs": [],
   "source": [
    "nb = NaiveBayesClassifier()"
   ]
  },
  {
   "cell_type": "code",
   "execution_count": 100,
   "metadata": {},
   "outputs": [
    {
     "name": "stdout",
     "output_type": "stream",
     "text": [
      "{'neg': 0.499213094113944, 'pos': 0.500786905886056}\n"
     ]
    }
   ],
   "source": [
    "prior_category, prob_word_given_category,vocabularies,outcomesCategoryPD = nb.fit(X_train,y_train,clf_label+\"_label\")"
   ]
  },
  {
   "cell_type": "code",
   "execution_count": 101,
   "metadata": {},
   "outputs": [
    {
     "name": "stdout",
     "output_type": "stream",
     "text": [
      "23\n"
     ]
    }
   ],
   "source": [
    "y_pred = nb.predict(X_test)"
   ]
  },
  {
   "cell_type": "code",
   "execution_count": 102,
   "metadata": {},
   "outputs": [],
   "source": [
    "accuracy = calculate_accuracy(y_test, y_pred)"
   ]
  },
  {
   "cell_type": "code",
   "execution_count": 103,
   "metadata": {},
   "outputs": [
    {
     "name": "stdout",
     "output_type": "stream",
     "text": [
      "0.8271086865295846\n"
     ]
    }
   ],
   "source": [
    "print(accuracy)"
   ]
  },
  {
   "cell_type": "code",
   "execution_count": 104,
   "metadata": {},
   "outputs": [],
   "source": [
    "most_strong_words_in_positive = dict(sorted(prob_word_given_category[\"pos\"].items(), key=lambda item: item[1], reverse=True))\n",
    "most_strong_words_in_negative = dict(sorted(prob_word_given_category[\"neg\"].items(), key=lambda item: item[1], reverse=True))"
   ]
  },
  {
   "cell_type": "code",
   "execution_count": 105,
   "metadata": {},
   "outputs": [
    {
     "name": "stdout",
     "output_type": "stream",
     "text": [
      "P(word='book'|label = neg) = -6.46425909660478\n",
      "P(word='camera'|label = neg) = -6.548271851220741\n",
      "P(word='like'|label = neg) = -6.588081767342898\n",
      "P(word='just'|label = neg) = -6.5908443940197285\n",
      "P(word='did'|label = neg) = -6.736892387922794\n",
      "P(word='product'|label = neg) = -6.819979919052741\n",
      "P(word='does'|label = neg) = -6.826173979942325\n",
      "P(word='good'|label = neg) = -6.842000250115771\n",
      "P(word='movie'|label = neg) = -6.859846665545958\n",
      "P(word='time'|label = neg) = -6.947305302631093\n"
     ]
    }
   ],
   "source": [
    "count = 1\n",
    "for key in most_strong_words_in_negative:\n",
    "    print(\"P(word='{}'|{}) = {}\".format(key,\"label = neg\",most_strong_words_in_negative[key]))\n",
    "    if(count == 10): break\n",
    "    count+=1"
   ]
  },
  {
   "cell_type": "code",
   "execution_count": 106,
   "metadata": {},
   "outputs": [
    {
     "name": "stdout",
     "output_type": "stream",
     "text": [
      "P(word='great'|label = pos) = -6.253003063526483\n",
      "P(word='book'|label = pos) = -6.5281013220232875\n",
      "P(word='camera'|label = pos) = -6.589902030510466\n",
      "P(word='good'|label = pos) = -6.6496049358115155\n",
      "P(word='use'|label = pos) = -6.699341458611662\n",
      "P(word='like'|label = pos) = -6.75624635668573\n",
      "P(word='love'|label = pos) = -6.84533057465018\n",
      "P(word='just'|label = pos) = -6.85897955980858\n",
      "P(word='easy'|label = pos) = -6.905323251994461\n",
      "P(word='really'|label = pos) = -6.9339179411360865\n"
     ]
    }
   ],
   "source": [
    "count = 1\n",
    "for key in most_strong_words_in_positive:\n",
    "    print(\"P(word='{}'|{}) = {}\".format(key,\"label = pos\",most_strong_words_in_positive[key]))\n",
    "    if(count == 10): break\n",
    "    count+=1"
   ]
  },
  {
   "cell_type": "code",
   "execution_count": 107,
   "metadata": {},
   "outputs": [],
   "source": [
    "def printConfusionMatrix(y_pred, y_test):\n",
    "    print(confusion_matrix(y_test, y_pred))\n",
    "    print(classification_report(y_test, y_pred))"
   ]
  },
  {
   "cell_type": "code",
   "execution_count": 108,
   "metadata": {},
   "outputs": [
    {
     "name": "stdout",
     "output_type": "stream",
     "text": [
      "[[988 168]\n",
      " [244 983]]\n",
      "              precision    recall  f1-score   support\n",
      "\n",
      "         neg       0.80      0.85      0.83      1156\n",
      "         pos       0.85      0.80      0.83      1227\n",
      "\n",
      "    accuracy                           0.83      2383\n",
      "   macro avg       0.83      0.83      0.83      2383\n",
      "weighted avg       0.83      0.83      0.83      2383\n",
      "\n"
     ]
    }
   ],
   "source": [
    "from sklearn.metrics import classification_report, confusion_matrix\n",
    "printConfusionMatrix(y_pred, y_test)"
   ]
  },
  {
   "cell_type": "markdown",
   "metadata": {},
   "source": [
    "# TF-IDF (using CountVectorizer)"
   ]
  },
  {
   "cell_type": "code",
   "execution_count": 112,
   "metadata": {},
   "outputs": [],
   "source": [
    "from sklearn.feature_extraction.text import ENGLISH_STOP_WORDS\n",
    "from sklearn.feature_extraction.text  import TfidfTransformer"
   ]
  },
  {
   "cell_type": "code",
   "execution_count": 113,
   "metadata": {},
   "outputs": [],
   "source": [
    "vectorizer = CountVectorizer(stop_words=ENGLISH_STOP_WORDS)  #instantiate CountVectorizer()"
   ]
  },
  {
   "cell_type": "code",
   "execution_count": 114,
   "metadata": {},
   "outputs": [],
   "source": [
    "word_count_vector = vectorizer.fit_transform(X_train) # this steps generates word counts for the words in the documets \n",
    "#X_test = vectorizer.transform(X_test)"
   ]
  },
  {
   "cell_type": "code",
   "execution_count": 115,
   "metadata": {},
   "outputs": [
    {
     "data": {
      "text/plain": [
       "TfidfTransformer()"
      ]
     },
     "execution_count": 115,
     "metadata": {},
     "output_type": "execute_result"
    }
   ],
   "source": [
    "#Compute the IDF values\n",
    "tfidf_transformer=TfidfTransformer(smooth_idf=True,use_idf=True) \n",
    "tfidf_transformer.fit(word_count_vector)"
   ]
  },
  {
   "cell_type": "code",
   "execution_count": 116,
   "metadata": {},
   "outputs": [],
   "source": [
    "#tfidf_transformer.fit(word_count_vector)"
   ]
  },
  {
   "cell_type": "code",
   "execution_count": 117,
   "metadata": {},
   "outputs": [],
   "source": [
    "# print idf values \n",
    "df_idf = pd.DataFrame(tfidf_transformer.idf_, index=vectorizer.get_feature_names(),columns=[\"idf_weights\"])"
   ]
  },
  {
   "cell_type": "code",
   "execution_count": 118,
   "metadata": {},
   "outputs": [
    {
     "data": {
      "text/html": [
       "<div>\n",
       "<style scoped>\n",
       "    .dataframe tbody tr th:only-of-type {\n",
       "        vertical-align: middle;\n",
       "    }\n",
       "\n",
       "    .dataframe tbody tr th {\n",
       "        vertical-align: top;\n",
       "    }\n",
       "\n",
       "    .dataframe thead th {\n",
       "        text-align: right;\n",
       "    }\n",
       "</style>\n",
       "<table border=\"1\" class=\"dataframe\">\n",
       "  <thead>\n",
       "    <tr style=\"text-align: right;\">\n",
       "      <th></th>\n",
       "      <th>idf_weights</th>\n",
       "    </tr>\n",
       "  </thead>\n",
       "  <tbody>\n",
       "    <tr>\n",
       "      <th>like</th>\n",
       "      <td>2.278210</td>\n",
       "    </tr>\n",
       "    <tr>\n",
       "      <th>just</th>\n",
       "      <td>2.309193</td>\n",
       "    </tr>\n",
       "    <tr>\n",
       "      <th>good</th>\n",
       "      <td>2.455347</td>\n",
       "    </tr>\n",
       "    <tr>\n",
       "      <th>great</th>\n",
       "      <td>2.504655</td>\n",
       "    </tr>\n",
       "    <tr>\n",
       "      <th>time</th>\n",
       "      <td>2.583242</td>\n",
       "    </tr>\n",
       "  </tbody>\n",
       "</table>\n",
       "</div>"
      ],
      "text/plain": [
       "       idf_weights\n",
       "like      2.278210\n",
       "just      2.309193\n",
       "good      2.455347\n",
       "great     2.504655\n",
       "time      2.583242"
      ]
     },
     "execution_count": 118,
     "metadata": {},
     "output_type": "execute_result"
    }
   ],
   "source": [
    "# sort ascending \n",
    "df_idf.sort_values(by=['idf_weights']).head() #Notice that the words ‘just’ and ‘like’ have the lowest IDF values. This is expected as these words appear in each and every document in our collection. The lower the IDF value of a word, the less unique it is to any particular document."
   ]
  },
  {
   "cell_type": "code",
   "execution_count": 119,
   "metadata": {},
   "outputs": [],
   "source": [
    "#  Compute the TFIDF score for the documents\n",
    "X_train=vectorizer.transform(X_train) \n",
    " \n",
    "# tf-idf scores \n",
    "tf_idf_vector=tfidf_transformer.transform(X_train) # to compute the tf-idf scores for documents"
   ]
  },
  {
   "cell_type": "code",
   "execution_count": 120,
   "metadata": {},
   "outputs": [
    {
     "data": {
      "text/plain": [
       "<9531x42102 sparse matrix of type '<class 'numpy.float64'>'\n",
       "\twith 466288 stored elements in Compressed Sparse Row format>"
      ]
     },
     "execution_count": 120,
     "metadata": {},
     "output_type": "execute_result"
    }
   ],
   "source": [
    "feature_names = vectorizer.get_feature_names()  # get feature names\n",
    "first_document_vector=tf_idf_vector[0] #get tfidf vector for first document \n",
    "shape = first_document_vector.shape\n",
    "tf_idf_vector"
   ]
  },
  {
   "cell_type": "code",
   "execution_count": 121,
   "metadata": {
    "scrolled": true
   },
   "outputs": [
    {
     "data": {
      "text/html": [
       "<div>\n",
       "<style scoped>\n",
       "    .dataframe tbody tr th:only-of-type {\n",
       "        vertical-align: middle;\n",
       "    }\n",
       "\n",
       "    .dataframe tbody tr th {\n",
       "        vertical-align: top;\n",
       "    }\n",
       "\n",
       "    .dataframe thead th {\n",
       "        text-align: right;\n",
       "    }\n",
       "</style>\n",
       "<table border=\"1\" class=\"dataframe\">\n",
       "  <thead>\n",
       "    <tr style=\"text-align: right;\">\n",
       "      <th></th>\n",
       "      <th>tfidf</th>\n",
       "    </tr>\n",
       "  </thead>\n",
       "  <tbody>\n",
       "    <tr>\n",
       "      <th>quot</th>\n",
       "      <td>0.620988</td>\n",
       "    </tr>\n",
       "    <tr>\n",
       "      <th>force</th>\n",
       "      <td>0.375275</td>\n",
       "    </tr>\n",
       "    <tr>\n",
       "      <th>revelation</th>\n",
       "      <td>0.251256</td>\n",
       "    </tr>\n",
       "    <tr>\n",
       "      <th>cd</th>\n",
       "      <td>0.228315</td>\n",
       "    </tr>\n",
       "    <tr>\n",
       "      <th>3rd</th>\n",
       "      <td>0.221466</td>\n",
       "    </tr>\n",
       "  </tbody>\n",
       "</table>\n",
       "</div>"
      ],
      "text/plain": [
       "               tfidf\n",
       "quot        0.620988\n",
       "force       0.375275\n",
       "revelation  0.251256\n",
       "cd          0.228315\n",
       "3rd         0.221466"
      ]
     },
     "execution_count": 121,
     "metadata": {},
     "output_type": "execute_result"
    }
   ],
   "source": [
    "#print the scores \n",
    "df = pd.DataFrame(first_document_vector.T.todense(), index=feature_names, columns=[\"tfidf\"]) \n",
    "df.sort_values(by=[\"tfidf\"],ascending=False).head()"
   ]
  },
  {
   "cell_type": "code",
   "execution_count": 122,
   "metadata": {},
   "outputs": [
    {
     "name": "stdout",
     "output_type": "stream",
     "text": [
      "dict_keys(['quot', 'force', 'revelation', 'cd', '3rd', 'new', 'tone', 'sets', 'field', 'recording', 'heart', 'collection', 'add', 'track', 'wonderful', 'years'])\n"
     ]
    }
   ],
   "source": [
    "sorted_vals = df.sort_values(by=[\"tfidf\"],ascending=False)\n",
    "most_weighted_words = {}\n",
    "for index in sorted_vals.index:\n",
    "    features = sorted_vals.loc[index]\n",
    "    if(features[\"tfidf\"] > 0):\n",
    "        most_weighted_words[features.name] = features[\"tfidf\"]\n",
    "print(most_weighted_words.keys())"
   ]
  },
  {
   "cell_type": "code",
   "execution_count": 123,
   "metadata": {},
   "outputs": [],
   "source": [
    "X_train = pd.DataFrame(X_train.toarray(), columns=feature_names) #convert series to dataframe"
   ]
  },
  {
   "cell_type": "code",
   "execution_count": 124,
   "metadata": {},
   "outputs": [],
   "source": [
    "X_train[clf_label+\"_label\"] = np.array(y_train, dtype='object')"
   ]
  },
  {
   "cell_type": "code",
   "execution_count": 125,
   "metadata": {},
   "outputs": [],
   "source": [
    "y_train = np.array(y_train, dtype='object')\n",
    "y_test = np.array(y_test, dtype='object')"
   ]
  },
  {
   "cell_type": "code",
   "execution_count": 126,
   "metadata": {},
   "outputs": [
    {
     "data": {
      "text/html": [
       "<div>\n",
       "<style scoped>\n",
       "    .dataframe tbody tr th:only-of-type {\n",
       "        vertical-align: middle;\n",
       "    }\n",
       "\n",
       "    .dataframe tbody tr th {\n",
       "        vertical-align: top;\n",
       "    }\n",
       "\n",
       "    .dataframe thead th {\n",
       "        text-align: right;\n",
       "    }\n",
       "</style>\n",
       "<table border=\"1\" class=\"dataframe\">\n",
       "  <thead>\n",
       "    <tr style=\"text-align: right;\">\n",
       "      <th></th>\n",
       "      <th>00</th>\n",
       "      <th>000</th>\n",
       "      <th>0003</th>\n",
       "      <th>000mb</th>\n",
       "      <th>007</th>\n",
       "      <th>00am</th>\n",
       "      <th>00pm</th>\n",
       "      <th>01</th>\n",
       "      <th>02</th>\n",
       "      <th>03</th>\n",
       "      <th>...</th>\n",
       "      <th>½lan</th>\n",
       "      <th>½sistance</th>\n",
       "      <th>½ttbullar</th>\n",
       "      <th>½ve</th>\n",
       "      <th>áron</th>\n",
       "      <th>árpád</th>\n",
       "      <th>ça</th>\n",
       "      <th>énnui</th>\n",
       "      <th>único</th>\n",
       "      <th>sentiment_category_label</th>\n",
       "    </tr>\n",
       "  </thead>\n",
       "  <tbody>\n",
       "    <tr>\n",
       "      <th>0</th>\n",
       "      <td>0</td>\n",
       "      <td>0</td>\n",
       "      <td>0</td>\n",
       "      <td>0</td>\n",
       "      <td>0</td>\n",
       "      <td>0</td>\n",
       "      <td>0</td>\n",
       "      <td>0</td>\n",
       "      <td>0</td>\n",
       "      <td>0</td>\n",
       "      <td>...</td>\n",
       "      <td>0</td>\n",
       "      <td>0</td>\n",
       "      <td>0</td>\n",
       "      <td>0</td>\n",
       "      <td>0</td>\n",
       "      <td>0</td>\n",
       "      <td>0</td>\n",
       "      <td>0</td>\n",
       "      <td>0</td>\n",
       "      <td>pos</td>\n",
       "    </tr>\n",
       "    <tr>\n",
       "      <th>1</th>\n",
       "      <td>0</td>\n",
       "      <td>0</td>\n",
       "      <td>0</td>\n",
       "      <td>0</td>\n",
       "      <td>0</td>\n",
       "      <td>0</td>\n",
       "      <td>0</td>\n",
       "      <td>0</td>\n",
       "      <td>0</td>\n",
       "      <td>0</td>\n",
       "      <td>...</td>\n",
       "      <td>0</td>\n",
       "      <td>0</td>\n",
       "      <td>0</td>\n",
       "      <td>0</td>\n",
       "      <td>0</td>\n",
       "      <td>0</td>\n",
       "      <td>0</td>\n",
       "      <td>0</td>\n",
       "      <td>0</td>\n",
       "      <td>neg</td>\n",
       "    </tr>\n",
       "    <tr>\n",
       "      <th>2</th>\n",
       "      <td>0</td>\n",
       "      <td>0</td>\n",
       "      <td>0</td>\n",
       "      <td>0</td>\n",
       "      <td>0</td>\n",
       "      <td>0</td>\n",
       "      <td>0</td>\n",
       "      <td>0</td>\n",
       "      <td>0</td>\n",
       "      <td>0</td>\n",
       "      <td>...</td>\n",
       "      <td>0</td>\n",
       "      <td>0</td>\n",
       "      <td>0</td>\n",
       "      <td>0</td>\n",
       "      <td>0</td>\n",
       "      <td>0</td>\n",
       "      <td>0</td>\n",
       "      <td>0</td>\n",
       "      <td>0</td>\n",
       "      <td>neg</td>\n",
       "    </tr>\n",
       "    <tr>\n",
       "      <th>3</th>\n",
       "      <td>0</td>\n",
       "      <td>0</td>\n",
       "      <td>0</td>\n",
       "      <td>0</td>\n",
       "      <td>0</td>\n",
       "      <td>0</td>\n",
       "      <td>0</td>\n",
       "      <td>0</td>\n",
       "      <td>0</td>\n",
       "      <td>0</td>\n",
       "      <td>...</td>\n",
       "      <td>0</td>\n",
       "      <td>0</td>\n",
       "      <td>0</td>\n",
       "      <td>0</td>\n",
       "      <td>0</td>\n",
       "      <td>0</td>\n",
       "      <td>0</td>\n",
       "      <td>0</td>\n",
       "      <td>0</td>\n",
       "      <td>neg</td>\n",
       "    </tr>\n",
       "    <tr>\n",
       "      <th>4</th>\n",
       "      <td>0</td>\n",
       "      <td>0</td>\n",
       "      <td>0</td>\n",
       "      <td>0</td>\n",
       "      <td>0</td>\n",
       "      <td>0</td>\n",
       "      <td>0</td>\n",
       "      <td>0</td>\n",
       "      <td>0</td>\n",
       "      <td>0</td>\n",
       "      <td>...</td>\n",
       "      <td>0</td>\n",
       "      <td>0</td>\n",
       "      <td>0</td>\n",
       "      <td>0</td>\n",
       "      <td>0</td>\n",
       "      <td>0</td>\n",
       "      <td>0</td>\n",
       "      <td>0</td>\n",
       "      <td>0</td>\n",
       "      <td>pos</td>\n",
       "    </tr>\n",
       "  </tbody>\n",
       "</table>\n",
       "<p>5 rows × 42103 columns</p>\n",
       "</div>"
      ],
      "text/plain": [
       "   00  000  0003  000mb  007  00am  00pm  01  02  03  ...  ½lan  ½sistance  \\\n",
       "0   0    0     0      0    0     0     0   0   0   0  ...     0          0   \n",
       "1   0    0     0      0    0     0     0   0   0   0  ...     0          0   \n",
       "2   0    0     0      0    0     0     0   0   0   0  ...     0          0   \n",
       "3   0    0     0      0    0     0     0   0   0   0  ...     0          0   \n",
       "4   0    0     0      0    0     0     0   0   0   0  ...     0          0   \n",
       "\n",
       "   ½ttbullar  ½ve  áron  árpád  ça  énnui  único  sentiment_category_label  \n",
       "0          0    0     0      0   0      0      0                       pos  \n",
       "1          0    0     0      0   0      0      0                       neg  \n",
       "2          0    0     0      0   0      0      0                       neg  \n",
       "3          0    0     0      0   0      0      0                       neg  \n",
       "4          0    0     0      0   0      0      0                       pos  \n",
       "\n",
       "[5 rows x 42103 columns]"
      ]
     },
     "execution_count": 126,
     "metadata": {},
     "output_type": "execute_result"
    }
   ],
   "source": [
    "nb = NaiveBayesClassifier()\n",
    "X_train.head()"
   ]
  },
  {
   "cell_type": "code",
   "execution_count": 127,
   "metadata": {},
   "outputs": [
    {
     "name": "stdout",
     "output_type": "stream",
     "text": [
      "{'neg': 0.49585562900010494, 'pos': 0.5041443709998951}\n"
     ]
    }
   ],
   "source": [
    "prior_category, prob_word_given_category,vocabularies,outcomesCategoryPD = nb.fit(X_train,y_train,clf_label+\"_label\")"
   ]
  },
  {
   "cell_type": "code",
   "execution_count": 128,
   "metadata": {},
   "outputs": [],
   "source": [
    "X_test = vectorizer.transform(X_test)"
   ]
  },
  {
   "cell_type": "code",
   "execution_count": 129,
   "metadata": {},
   "outputs": [
    {
     "data": {
      "text/html": [
       "<div>\n",
       "<style scoped>\n",
       "    .dataframe tbody tr th:only-of-type {\n",
       "        vertical-align: middle;\n",
       "    }\n",
       "\n",
       "    .dataframe tbody tr th {\n",
       "        vertical-align: top;\n",
       "    }\n",
       "\n",
       "    .dataframe thead th {\n",
       "        text-align: right;\n",
       "    }\n",
       "</style>\n",
       "<table border=\"1\" class=\"dataframe\">\n",
       "  <thead>\n",
       "    <tr style=\"text-align: right;\">\n",
       "      <th></th>\n",
       "      <th>00</th>\n",
       "      <th>000</th>\n",
       "      <th>0003</th>\n",
       "      <th>000mb</th>\n",
       "      <th>007</th>\n",
       "      <th>00am</th>\n",
       "      <th>00pm</th>\n",
       "      <th>01</th>\n",
       "      <th>02</th>\n",
       "      <th>03</th>\n",
       "      <th>...</th>\n",
       "      <th>½kerlund</th>\n",
       "      <th>½lan</th>\n",
       "      <th>½sistance</th>\n",
       "      <th>½ttbullar</th>\n",
       "      <th>½ve</th>\n",
       "      <th>áron</th>\n",
       "      <th>árpád</th>\n",
       "      <th>ça</th>\n",
       "      <th>énnui</th>\n",
       "      <th>único</th>\n",
       "    </tr>\n",
       "  </thead>\n",
       "  <tbody>\n",
       "    <tr>\n",
       "      <th>0</th>\n",
       "      <td>0</td>\n",
       "      <td>0</td>\n",
       "      <td>0</td>\n",
       "      <td>0</td>\n",
       "      <td>0</td>\n",
       "      <td>0</td>\n",
       "      <td>0</td>\n",
       "      <td>0</td>\n",
       "      <td>0</td>\n",
       "      <td>0</td>\n",
       "      <td>...</td>\n",
       "      <td>0</td>\n",
       "      <td>0</td>\n",
       "      <td>0</td>\n",
       "      <td>0</td>\n",
       "      <td>0</td>\n",
       "      <td>0</td>\n",
       "      <td>0</td>\n",
       "      <td>0</td>\n",
       "      <td>0</td>\n",
       "      <td>0</td>\n",
       "    </tr>\n",
       "    <tr>\n",
       "      <th>1</th>\n",
       "      <td>0</td>\n",
       "      <td>0</td>\n",
       "      <td>0</td>\n",
       "      <td>0</td>\n",
       "      <td>0</td>\n",
       "      <td>0</td>\n",
       "      <td>0</td>\n",
       "      <td>0</td>\n",
       "      <td>0</td>\n",
       "      <td>0</td>\n",
       "      <td>...</td>\n",
       "      <td>0</td>\n",
       "      <td>0</td>\n",
       "      <td>0</td>\n",
       "      <td>0</td>\n",
       "      <td>0</td>\n",
       "      <td>0</td>\n",
       "      <td>0</td>\n",
       "      <td>0</td>\n",
       "      <td>0</td>\n",
       "      <td>0</td>\n",
       "    </tr>\n",
       "    <tr>\n",
       "      <th>2</th>\n",
       "      <td>0</td>\n",
       "      <td>0</td>\n",
       "      <td>0</td>\n",
       "      <td>0</td>\n",
       "      <td>0</td>\n",
       "      <td>0</td>\n",
       "      <td>0</td>\n",
       "      <td>0</td>\n",
       "      <td>0</td>\n",
       "      <td>0</td>\n",
       "      <td>...</td>\n",
       "      <td>0</td>\n",
       "      <td>0</td>\n",
       "      <td>0</td>\n",
       "      <td>0</td>\n",
       "      <td>0</td>\n",
       "      <td>0</td>\n",
       "      <td>0</td>\n",
       "      <td>0</td>\n",
       "      <td>0</td>\n",
       "      <td>0</td>\n",
       "    </tr>\n",
       "    <tr>\n",
       "      <th>3</th>\n",
       "      <td>0</td>\n",
       "      <td>0</td>\n",
       "      <td>0</td>\n",
       "      <td>0</td>\n",
       "      <td>0</td>\n",
       "      <td>0</td>\n",
       "      <td>0</td>\n",
       "      <td>0</td>\n",
       "      <td>0</td>\n",
       "      <td>0</td>\n",
       "      <td>...</td>\n",
       "      <td>0</td>\n",
       "      <td>0</td>\n",
       "      <td>0</td>\n",
       "      <td>0</td>\n",
       "      <td>0</td>\n",
       "      <td>0</td>\n",
       "      <td>0</td>\n",
       "      <td>0</td>\n",
       "      <td>0</td>\n",
       "      <td>0</td>\n",
       "    </tr>\n",
       "    <tr>\n",
       "      <th>4</th>\n",
       "      <td>0</td>\n",
       "      <td>0</td>\n",
       "      <td>0</td>\n",
       "      <td>0</td>\n",
       "      <td>0</td>\n",
       "      <td>0</td>\n",
       "      <td>0</td>\n",
       "      <td>0</td>\n",
       "      <td>0</td>\n",
       "      <td>0</td>\n",
       "      <td>...</td>\n",
       "      <td>0</td>\n",
       "      <td>0</td>\n",
       "      <td>0</td>\n",
       "      <td>0</td>\n",
       "      <td>0</td>\n",
       "      <td>0</td>\n",
       "      <td>0</td>\n",
       "      <td>0</td>\n",
       "      <td>0</td>\n",
       "      <td>0</td>\n",
       "    </tr>\n",
       "  </tbody>\n",
       "</table>\n",
       "<p>5 rows × 42102 columns</p>\n",
       "</div>"
      ],
      "text/plain": [
       "   00  000  0003  000mb  007  00am  00pm  01  02  03  ...  ½kerlund  ½lan  \\\n",
       "0   0    0     0      0    0     0     0   0   0   0  ...         0     0   \n",
       "1   0    0     0      0    0     0     0   0   0   0  ...         0     0   \n",
       "2   0    0     0      0    0     0     0   0   0   0  ...         0     0   \n",
       "3   0    0     0      0    0     0     0   0   0   0  ...         0     0   \n",
       "4   0    0     0      0    0     0     0   0   0   0  ...         0     0   \n",
       "\n",
       "   ½sistance  ½ttbullar  ½ve  áron  árpád  ça  énnui  único  \n",
       "0          0          0    0     0      0   0      0      0  \n",
       "1          0          0    0     0      0   0      0      0  \n",
       "2          0          0    0     0      0   0      0      0  \n",
       "3          0          0    0     0      0   0      0      0  \n",
       "4          0          0    0     0      0   0      0      0  \n",
       "\n",
       "[5 rows x 42102 columns]"
      ]
     },
     "execution_count": 129,
     "metadata": {},
     "output_type": "execute_result"
    }
   ],
   "source": [
    "X_test = pd.DataFrame(X_test.toarray(), columns=feature_names)\n",
    "X_test.head()"
   ]
  },
  {
   "cell_type": "code",
   "execution_count": 130,
   "metadata": {},
   "outputs": [
    {
     "name": "stdout",
     "output_type": "stream",
     "text": [
      "8\n"
     ]
    }
   ],
   "source": [
    "y_pred = nb.predict(X_test)"
   ]
  },
  {
   "cell_type": "code",
   "execution_count": 131,
   "metadata": {},
   "outputs": [],
   "source": [
    "accuracy = calculate_accuracy(y_test, y_pred)"
   ]
  },
  {
   "cell_type": "code",
   "execution_count": 132,
   "metadata": {},
   "outputs": [
    {
     "name": "stdout",
     "output_type": "stream",
     "text": [
      "0.8287872429710449\n"
     ]
    }
   ],
   "source": [
    "print(accuracy)"
   ]
  },
  {
   "cell_type": "markdown",
   "metadata": {},
   "source": [
    "# Bigram"
   ]
  },
  {
   "cell_type": "code",
   "execution_count": 7,
   "metadata": {},
   "outputs": [],
   "source": [
    "vectorizer = CountVectorizer(stop_words=ENGLISH_STOP_WORDS,ngram_range=(2, 2))\n",
    "X_train = vectorizer.fit_transform(X_train) \n",
    "X_test = vectorizer.transform(X_test)"
   ]
  },
  {
   "cell_type": "code",
   "execution_count": 8,
   "metadata": {},
   "outputs": [
    {
     "data": {
      "text/plain": [
       "425585"
      ]
     },
     "execution_count": 8,
     "metadata": {},
     "output_type": "execute_result"
    }
   ],
   "source": [
    "feature_names = vectorizer.get_feature_names()\n",
    "len(feature_names)"
   ]
  },
  {
   "cell_type": "code",
   "execution_count": 9,
   "metadata": {},
   "outputs": [],
   "source": [
    "X_train = pd.DataFrame(X_train.toarray(), columns=feature_names)\n",
    "X_test = pd.DataFrame(X_test.toarray(), columns=feature_names)"
   ]
  },
  {
   "cell_type": "code",
   "execution_count": 10,
   "metadata": {},
   "outputs": [
    {
     "data": {
      "text/html": [
       "<div>\n",
       "<style scoped>\n",
       "    .dataframe tbody tr th:only-of-type {\n",
       "        vertical-align: middle;\n",
       "    }\n",
       "\n",
       "    .dataframe tbody tr th {\n",
       "        vertical-align: top;\n",
       "    }\n",
       "\n",
       "    .dataframe thead th {\n",
       "        text-align: right;\n",
       "    }\n",
       "</style>\n",
       "<table border=\"1\" class=\"dataframe\">\n",
       "  <thead>\n",
       "    <tr style=\"text-align: right;\">\n",
       "      <th></th>\n",
       "      <th>00 00</th>\n",
       "      <th>00 22</th>\n",
       "      <th>00 320</th>\n",
       "      <th>00 50</th>\n",
       "      <th>00 8x</th>\n",
       "      <th>00 avoid</th>\n",
       "      <th>00 believe</th>\n",
       "      <th>00 bit</th>\n",
       "      <th>00 bot</th>\n",
       "      <th>00 bucks</th>\n",
       "      <th>...</th>\n",
       "      <th>áron feels</th>\n",
       "      <th>áron map</th>\n",
       "      <th>áron organize</th>\n",
       "      <th>áron solace</th>\n",
       "      <th>áron tamás</th>\n",
       "      <th>áron undergoes</th>\n",
       "      <th>árpád sopsits</th>\n",
       "      <th>ça claque</th>\n",
       "      <th>énnui wanna</th>\n",
       "      <th>único que</th>\n",
       "    </tr>\n",
       "  </thead>\n",
       "  <tbody>\n",
       "    <tr>\n",
       "      <th>0</th>\n",
       "      <td>0</td>\n",
       "      <td>0</td>\n",
       "      <td>0</td>\n",
       "      <td>0</td>\n",
       "      <td>0</td>\n",
       "      <td>0</td>\n",
       "      <td>0</td>\n",
       "      <td>0</td>\n",
       "      <td>0</td>\n",
       "      <td>0</td>\n",
       "      <td>...</td>\n",
       "      <td>0</td>\n",
       "      <td>0</td>\n",
       "      <td>0</td>\n",
       "      <td>0</td>\n",
       "      <td>0</td>\n",
       "      <td>0</td>\n",
       "      <td>0</td>\n",
       "      <td>0</td>\n",
       "      <td>0</td>\n",
       "      <td>0</td>\n",
       "    </tr>\n",
       "    <tr>\n",
       "      <th>1</th>\n",
       "      <td>0</td>\n",
       "      <td>0</td>\n",
       "      <td>0</td>\n",
       "      <td>0</td>\n",
       "      <td>0</td>\n",
       "      <td>0</td>\n",
       "      <td>0</td>\n",
       "      <td>0</td>\n",
       "      <td>0</td>\n",
       "      <td>0</td>\n",
       "      <td>...</td>\n",
       "      <td>0</td>\n",
       "      <td>0</td>\n",
       "      <td>0</td>\n",
       "      <td>0</td>\n",
       "      <td>0</td>\n",
       "      <td>0</td>\n",
       "      <td>0</td>\n",
       "      <td>0</td>\n",
       "      <td>0</td>\n",
       "      <td>0</td>\n",
       "    </tr>\n",
       "    <tr>\n",
       "      <th>2</th>\n",
       "      <td>0</td>\n",
       "      <td>0</td>\n",
       "      <td>0</td>\n",
       "      <td>0</td>\n",
       "      <td>0</td>\n",
       "      <td>0</td>\n",
       "      <td>0</td>\n",
       "      <td>0</td>\n",
       "      <td>0</td>\n",
       "      <td>0</td>\n",
       "      <td>...</td>\n",
       "      <td>0</td>\n",
       "      <td>0</td>\n",
       "      <td>0</td>\n",
       "      <td>0</td>\n",
       "      <td>0</td>\n",
       "      <td>0</td>\n",
       "      <td>0</td>\n",
       "      <td>0</td>\n",
       "      <td>0</td>\n",
       "      <td>0</td>\n",
       "    </tr>\n",
       "    <tr>\n",
       "      <th>3</th>\n",
       "      <td>0</td>\n",
       "      <td>0</td>\n",
       "      <td>0</td>\n",
       "      <td>0</td>\n",
       "      <td>0</td>\n",
       "      <td>0</td>\n",
       "      <td>0</td>\n",
       "      <td>0</td>\n",
       "      <td>0</td>\n",
       "      <td>0</td>\n",
       "      <td>...</td>\n",
       "      <td>0</td>\n",
       "      <td>0</td>\n",
       "      <td>0</td>\n",
       "      <td>0</td>\n",
       "      <td>0</td>\n",
       "      <td>0</td>\n",
       "      <td>0</td>\n",
       "      <td>0</td>\n",
       "      <td>0</td>\n",
       "      <td>0</td>\n",
       "    </tr>\n",
       "    <tr>\n",
       "      <th>4</th>\n",
       "      <td>0</td>\n",
       "      <td>0</td>\n",
       "      <td>0</td>\n",
       "      <td>0</td>\n",
       "      <td>0</td>\n",
       "      <td>0</td>\n",
       "      <td>0</td>\n",
       "      <td>0</td>\n",
       "      <td>0</td>\n",
       "      <td>0</td>\n",
       "      <td>...</td>\n",
       "      <td>0</td>\n",
       "      <td>0</td>\n",
       "      <td>0</td>\n",
       "      <td>0</td>\n",
       "      <td>0</td>\n",
       "      <td>0</td>\n",
       "      <td>0</td>\n",
       "      <td>0</td>\n",
       "      <td>0</td>\n",
       "      <td>0</td>\n",
       "    </tr>\n",
       "    <tr>\n",
       "      <th>...</th>\n",
       "      <td>...</td>\n",
       "      <td>...</td>\n",
       "      <td>...</td>\n",
       "      <td>...</td>\n",
       "      <td>...</td>\n",
       "      <td>...</td>\n",
       "      <td>...</td>\n",
       "      <td>...</td>\n",
       "      <td>...</td>\n",
       "      <td>...</td>\n",
       "      <td>...</td>\n",
       "      <td>...</td>\n",
       "      <td>...</td>\n",
       "      <td>...</td>\n",
       "      <td>...</td>\n",
       "      <td>...</td>\n",
       "      <td>...</td>\n",
       "      <td>...</td>\n",
       "      <td>...</td>\n",
       "      <td>...</td>\n",
       "      <td>...</td>\n",
       "    </tr>\n",
       "    <tr>\n",
       "      <th>9526</th>\n",
       "      <td>0</td>\n",
       "      <td>0</td>\n",
       "      <td>0</td>\n",
       "      <td>0</td>\n",
       "      <td>0</td>\n",
       "      <td>0</td>\n",
       "      <td>0</td>\n",
       "      <td>0</td>\n",
       "      <td>0</td>\n",
       "      <td>0</td>\n",
       "      <td>...</td>\n",
       "      <td>0</td>\n",
       "      <td>0</td>\n",
       "      <td>0</td>\n",
       "      <td>0</td>\n",
       "      <td>0</td>\n",
       "      <td>0</td>\n",
       "      <td>0</td>\n",
       "      <td>0</td>\n",
       "      <td>0</td>\n",
       "      <td>0</td>\n",
       "    </tr>\n",
       "    <tr>\n",
       "      <th>9527</th>\n",
       "      <td>0</td>\n",
       "      <td>0</td>\n",
       "      <td>0</td>\n",
       "      <td>0</td>\n",
       "      <td>0</td>\n",
       "      <td>0</td>\n",
       "      <td>0</td>\n",
       "      <td>0</td>\n",
       "      <td>0</td>\n",
       "      <td>0</td>\n",
       "      <td>...</td>\n",
       "      <td>0</td>\n",
       "      <td>0</td>\n",
       "      <td>0</td>\n",
       "      <td>0</td>\n",
       "      <td>0</td>\n",
       "      <td>0</td>\n",
       "      <td>0</td>\n",
       "      <td>0</td>\n",
       "      <td>0</td>\n",
       "      <td>0</td>\n",
       "    </tr>\n",
       "    <tr>\n",
       "      <th>9528</th>\n",
       "      <td>0</td>\n",
       "      <td>0</td>\n",
       "      <td>0</td>\n",
       "      <td>0</td>\n",
       "      <td>0</td>\n",
       "      <td>0</td>\n",
       "      <td>0</td>\n",
       "      <td>0</td>\n",
       "      <td>0</td>\n",
       "      <td>0</td>\n",
       "      <td>...</td>\n",
       "      <td>0</td>\n",
       "      <td>0</td>\n",
       "      <td>0</td>\n",
       "      <td>0</td>\n",
       "      <td>0</td>\n",
       "      <td>0</td>\n",
       "      <td>0</td>\n",
       "      <td>0</td>\n",
       "      <td>0</td>\n",
       "      <td>0</td>\n",
       "    </tr>\n",
       "    <tr>\n",
       "      <th>9529</th>\n",
       "      <td>0</td>\n",
       "      <td>0</td>\n",
       "      <td>0</td>\n",
       "      <td>0</td>\n",
       "      <td>0</td>\n",
       "      <td>0</td>\n",
       "      <td>0</td>\n",
       "      <td>0</td>\n",
       "      <td>0</td>\n",
       "      <td>0</td>\n",
       "      <td>...</td>\n",
       "      <td>0</td>\n",
       "      <td>0</td>\n",
       "      <td>0</td>\n",
       "      <td>0</td>\n",
       "      <td>0</td>\n",
       "      <td>0</td>\n",
       "      <td>0</td>\n",
       "      <td>0</td>\n",
       "      <td>0</td>\n",
       "      <td>0</td>\n",
       "    </tr>\n",
       "    <tr>\n",
       "      <th>9530</th>\n",
       "      <td>0</td>\n",
       "      <td>0</td>\n",
       "      <td>0</td>\n",
       "      <td>0</td>\n",
       "      <td>0</td>\n",
       "      <td>0</td>\n",
       "      <td>0</td>\n",
       "      <td>0</td>\n",
       "      <td>0</td>\n",
       "      <td>0</td>\n",
       "      <td>...</td>\n",
       "      <td>0</td>\n",
       "      <td>0</td>\n",
       "      <td>0</td>\n",
       "      <td>0</td>\n",
       "      <td>0</td>\n",
       "      <td>0</td>\n",
       "      <td>0</td>\n",
       "      <td>0</td>\n",
       "      <td>0</td>\n",
       "      <td>0</td>\n",
       "    </tr>\n",
       "  </tbody>\n",
       "</table>\n",
       "<p>9531 rows × 425585 columns</p>\n",
       "</div>"
      ],
      "text/plain": [
       "      00 00  00 22  00 320  00 50  00 8x  00 avoid  00 believe  00 bit  \\\n",
       "0         0      0       0      0      0         0           0       0   \n",
       "1         0      0       0      0      0         0           0       0   \n",
       "2         0      0       0      0      0         0           0       0   \n",
       "3         0      0       0      0      0         0           0       0   \n",
       "4         0      0       0      0      0         0           0       0   \n",
       "...     ...    ...     ...    ...    ...       ...         ...     ...   \n",
       "9526      0      0       0      0      0         0           0       0   \n",
       "9527      0      0       0      0      0         0           0       0   \n",
       "9528      0      0       0      0      0         0           0       0   \n",
       "9529      0      0       0      0      0         0           0       0   \n",
       "9530      0      0       0      0      0         0           0       0   \n",
       "\n",
       "      00 bot  00 bucks  ...  áron feels  áron map  áron organize  áron solace  \\\n",
       "0          0         0  ...           0         0              0            0   \n",
       "1          0         0  ...           0         0              0            0   \n",
       "2          0         0  ...           0         0              0            0   \n",
       "3          0         0  ...           0         0              0            0   \n",
       "4          0         0  ...           0         0              0            0   \n",
       "...      ...       ...  ...         ...       ...            ...          ...   \n",
       "9526       0         0  ...           0         0              0            0   \n",
       "9527       0         0  ...           0         0              0            0   \n",
       "9528       0         0  ...           0         0              0            0   \n",
       "9529       0         0  ...           0         0              0            0   \n",
       "9530       0         0  ...           0         0              0            0   \n",
       "\n",
       "      áron tamás  áron undergoes  árpád sopsits  ça claque  énnui wanna  \\\n",
       "0              0               0              0          0            0   \n",
       "1              0               0              0          0            0   \n",
       "2              0               0              0          0            0   \n",
       "3              0               0              0          0            0   \n",
       "4              0               0              0          0            0   \n",
       "...          ...             ...            ...        ...          ...   \n",
       "9526           0               0              0          0            0   \n",
       "9527           0               0              0          0            0   \n",
       "9528           0               0              0          0            0   \n",
       "9529           0               0              0          0            0   \n",
       "9530           0               0              0          0            0   \n",
       "\n",
       "      único que  \n",
       "0             0  \n",
       "1             0  \n",
       "2             0  \n",
       "3             0  \n",
       "4             0  \n",
       "...         ...  \n",
       "9526          0  \n",
       "9527          0  \n",
       "9528          0  \n",
       "9529          0  \n",
       "9530          0  \n",
       "\n",
       "[9531 rows x 425585 columns]"
      ]
     },
     "execution_count": 10,
     "metadata": {},
     "output_type": "execute_result"
    }
   ],
   "source": [
    "X_train"
   ]
  },
  {
   "cell_type": "code",
   "execution_count": null,
   "metadata": {},
   "outputs": [],
   "source": [
    "X_train = X_train.iloc[:,:42031]\n",
    "X_train[clf_label+\"_label\"] = np.array(y_train, dtype='object')"
   ]
  },
  {
   "cell_type": "code",
   "execution_count": 12,
   "metadata": {},
   "outputs": [
    {
     "data": {
      "text/html": [
       "<div>\n",
       "<style scoped>\n",
       "    .dataframe tbody tr th:only-of-type {\n",
       "        vertical-align: middle;\n",
       "    }\n",
       "\n",
       "    .dataframe tbody tr th {\n",
       "        vertical-align: top;\n",
       "    }\n",
       "\n",
       "    .dataframe thead th {\n",
       "        text-align: right;\n",
       "    }\n",
       "</style>\n",
       "<table border=\"1\" class=\"dataframe\">\n",
       "  <thead>\n",
       "    <tr style=\"text-align: right;\">\n",
       "      <th></th>\n",
       "      <th>00 00</th>\n",
       "      <th>00 22</th>\n",
       "      <th>00 320</th>\n",
       "      <th>00 50</th>\n",
       "      <th>00 8x</th>\n",
       "      <th>00 avoid</th>\n",
       "      <th>00 believe</th>\n",
       "      <th>00 bit</th>\n",
       "      <th>00 bot</th>\n",
       "      <th>00 bucks</th>\n",
       "      <th>...</th>\n",
       "      <th>bobby short</th>\n",
       "      <th>bobby valentino</th>\n",
       "      <th>bobby vee</th>\n",
       "      <th>bobby wanzer</th>\n",
       "      <th>boc sound</th>\n",
       "      <th>boca raton</th>\n",
       "      <th>boccherini adagio</th>\n",
       "      <th>boccherini vivaldi</th>\n",
       "      <th>bocelli fans</th>\n",
       "      <th>bocelli simply</th>\n",
       "    </tr>\n",
       "  </thead>\n",
       "  <tbody>\n",
       "    <tr>\n",
       "      <th>0</th>\n",
       "      <td>0</td>\n",
       "      <td>0</td>\n",
       "      <td>0</td>\n",
       "      <td>0</td>\n",
       "      <td>0</td>\n",
       "      <td>0</td>\n",
       "      <td>0</td>\n",
       "      <td>0</td>\n",
       "      <td>0</td>\n",
       "      <td>0</td>\n",
       "      <td>...</td>\n",
       "      <td>0</td>\n",
       "      <td>0</td>\n",
       "      <td>0</td>\n",
       "      <td>0</td>\n",
       "      <td>0</td>\n",
       "      <td>0</td>\n",
       "      <td>0</td>\n",
       "      <td>0</td>\n",
       "      <td>0</td>\n",
       "      <td>0</td>\n",
       "    </tr>\n",
       "    <tr>\n",
       "      <th>1</th>\n",
       "      <td>0</td>\n",
       "      <td>0</td>\n",
       "      <td>0</td>\n",
       "      <td>0</td>\n",
       "      <td>0</td>\n",
       "      <td>0</td>\n",
       "      <td>0</td>\n",
       "      <td>0</td>\n",
       "      <td>0</td>\n",
       "      <td>0</td>\n",
       "      <td>...</td>\n",
       "      <td>0</td>\n",
       "      <td>0</td>\n",
       "      <td>0</td>\n",
       "      <td>0</td>\n",
       "      <td>0</td>\n",
       "      <td>0</td>\n",
       "      <td>0</td>\n",
       "      <td>0</td>\n",
       "      <td>0</td>\n",
       "      <td>0</td>\n",
       "    </tr>\n",
       "    <tr>\n",
       "      <th>2</th>\n",
       "      <td>0</td>\n",
       "      <td>0</td>\n",
       "      <td>0</td>\n",
       "      <td>0</td>\n",
       "      <td>0</td>\n",
       "      <td>0</td>\n",
       "      <td>0</td>\n",
       "      <td>0</td>\n",
       "      <td>0</td>\n",
       "      <td>0</td>\n",
       "      <td>...</td>\n",
       "      <td>0</td>\n",
       "      <td>0</td>\n",
       "      <td>0</td>\n",
       "      <td>0</td>\n",
       "      <td>0</td>\n",
       "      <td>0</td>\n",
       "      <td>0</td>\n",
       "      <td>0</td>\n",
       "      <td>0</td>\n",
       "      <td>0</td>\n",
       "    </tr>\n",
       "    <tr>\n",
       "      <th>3</th>\n",
       "      <td>0</td>\n",
       "      <td>0</td>\n",
       "      <td>0</td>\n",
       "      <td>0</td>\n",
       "      <td>0</td>\n",
       "      <td>0</td>\n",
       "      <td>0</td>\n",
       "      <td>0</td>\n",
       "      <td>0</td>\n",
       "      <td>0</td>\n",
       "      <td>...</td>\n",
       "      <td>0</td>\n",
       "      <td>0</td>\n",
       "      <td>0</td>\n",
       "      <td>0</td>\n",
       "      <td>0</td>\n",
       "      <td>0</td>\n",
       "      <td>0</td>\n",
       "      <td>0</td>\n",
       "      <td>0</td>\n",
       "      <td>0</td>\n",
       "    </tr>\n",
       "    <tr>\n",
       "      <th>4</th>\n",
       "      <td>0</td>\n",
       "      <td>0</td>\n",
       "      <td>0</td>\n",
       "      <td>0</td>\n",
       "      <td>0</td>\n",
       "      <td>0</td>\n",
       "      <td>0</td>\n",
       "      <td>0</td>\n",
       "      <td>0</td>\n",
       "      <td>0</td>\n",
       "      <td>...</td>\n",
       "      <td>0</td>\n",
       "      <td>0</td>\n",
       "      <td>0</td>\n",
       "      <td>0</td>\n",
       "      <td>0</td>\n",
       "      <td>0</td>\n",
       "      <td>0</td>\n",
       "      <td>0</td>\n",
       "      <td>0</td>\n",
       "      <td>0</td>\n",
       "    </tr>\n",
       "    <tr>\n",
       "      <th>...</th>\n",
       "      <td>...</td>\n",
       "      <td>...</td>\n",
       "      <td>...</td>\n",
       "      <td>...</td>\n",
       "      <td>...</td>\n",
       "      <td>...</td>\n",
       "      <td>...</td>\n",
       "      <td>...</td>\n",
       "      <td>...</td>\n",
       "      <td>...</td>\n",
       "      <td>...</td>\n",
       "      <td>...</td>\n",
       "      <td>...</td>\n",
       "      <td>...</td>\n",
       "      <td>...</td>\n",
       "      <td>...</td>\n",
       "      <td>...</td>\n",
       "      <td>...</td>\n",
       "      <td>...</td>\n",
       "      <td>...</td>\n",
       "      <td>...</td>\n",
       "    </tr>\n",
       "    <tr>\n",
       "      <th>2378</th>\n",
       "      <td>0</td>\n",
       "      <td>0</td>\n",
       "      <td>0</td>\n",
       "      <td>0</td>\n",
       "      <td>0</td>\n",
       "      <td>0</td>\n",
       "      <td>0</td>\n",
       "      <td>0</td>\n",
       "      <td>0</td>\n",
       "      <td>0</td>\n",
       "      <td>...</td>\n",
       "      <td>0</td>\n",
       "      <td>0</td>\n",
       "      <td>0</td>\n",
       "      <td>0</td>\n",
       "      <td>0</td>\n",
       "      <td>0</td>\n",
       "      <td>0</td>\n",
       "      <td>0</td>\n",
       "      <td>0</td>\n",
       "      <td>0</td>\n",
       "    </tr>\n",
       "    <tr>\n",
       "      <th>2379</th>\n",
       "      <td>0</td>\n",
       "      <td>0</td>\n",
       "      <td>0</td>\n",
       "      <td>0</td>\n",
       "      <td>0</td>\n",
       "      <td>0</td>\n",
       "      <td>0</td>\n",
       "      <td>0</td>\n",
       "      <td>0</td>\n",
       "      <td>0</td>\n",
       "      <td>...</td>\n",
       "      <td>0</td>\n",
       "      <td>0</td>\n",
       "      <td>0</td>\n",
       "      <td>0</td>\n",
       "      <td>0</td>\n",
       "      <td>0</td>\n",
       "      <td>0</td>\n",
       "      <td>0</td>\n",
       "      <td>0</td>\n",
       "      <td>0</td>\n",
       "    </tr>\n",
       "    <tr>\n",
       "      <th>2380</th>\n",
       "      <td>0</td>\n",
       "      <td>0</td>\n",
       "      <td>0</td>\n",
       "      <td>0</td>\n",
       "      <td>0</td>\n",
       "      <td>0</td>\n",
       "      <td>0</td>\n",
       "      <td>0</td>\n",
       "      <td>0</td>\n",
       "      <td>0</td>\n",
       "      <td>...</td>\n",
       "      <td>0</td>\n",
       "      <td>0</td>\n",
       "      <td>0</td>\n",
       "      <td>0</td>\n",
       "      <td>0</td>\n",
       "      <td>0</td>\n",
       "      <td>0</td>\n",
       "      <td>0</td>\n",
       "      <td>0</td>\n",
       "      <td>0</td>\n",
       "    </tr>\n",
       "    <tr>\n",
       "      <th>2381</th>\n",
       "      <td>0</td>\n",
       "      <td>0</td>\n",
       "      <td>0</td>\n",
       "      <td>0</td>\n",
       "      <td>0</td>\n",
       "      <td>0</td>\n",
       "      <td>0</td>\n",
       "      <td>0</td>\n",
       "      <td>0</td>\n",
       "      <td>0</td>\n",
       "      <td>...</td>\n",
       "      <td>0</td>\n",
       "      <td>0</td>\n",
       "      <td>0</td>\n",
       "      <td>0</td>\n",
       "      <td>0</td>\n",
       "      <td>0</td>\n",
       "      <td>0</td>\n",
       "      <td>0</td>\n",
       "      <td>0</td>\n",
       "      <td>0</td>\n",
       "    </tr>\n",
       "    <tr>\n",
       "      <th>2382</th>\n",
       "      <td>0</td>\n",
       "      <td>0</td>\n",
       "      <td>0</td>\n",
       "      <td>0</td>\n",
       "      <td>0</td>\n",
       "      <td>0</td>\n",
       "      <td>0</td>\n",
       "      <td>0</td>\n",
       "      <td>0</td>\n",
       "      <td>0</td>\n",
       "      <td>...</td>\n",
       "      <td>0</td>\n",
       "      <td>0</td>\n",
       "      <td>0</td>\n",
       "      <td>0</td>\n",
       "      <td>0</td>\n",
       "      <td>0</td>\n",
       "      <td>0</td>\n",
       "      <td>0</td>\n",
       "      <td>0</td>\n",
       "      <td>0</td>\n",
       "    </tr>\n",
       "  </tbody>\n",
       "</table>\n",
       "<p>2383 rows × 42031 columns</p>\n",
       "</div>"
      ],
      "text/plain": [
       "      00 00  00 22  00 320  00 50  00 8x  00 avoid  00 believe  00 bit  \\\n",
       "0         0      0       0      0      0         0           0       0   \n",
       "1         0      0       0      0      0         0           0       0   \n",
       "2         0      0       0      0      0         0           0       0   \n",
       "3         0      0       0      0      0         0           0       0   \n",
       "4         0      0       0      0      0         0           0       0   \n",
       "...     ...    ...     ...    ...    ...       ...         ...     ...   \n",
       "2378      0      0       0      0      0         0           0       0   \n",
       "2379      0      0       0      0      0         0           0       0   \n",
       "2380      0      0       0      0      0         0           0       0   \n",
       "2381      0      0       0      0      0         0           0       0   \n",
       "2382      0      0       0      0      0         0           0       0   \n",
       "\n",
       "      00 bot  00 bucks  ...  bobby short  bobby valentino  bobby vee  \\\n",
       "0          0         0  ...            0                0          0   \n",
       "1          0         0  ...            0                0          0   \n",
       "2          0         0  ...            0                0          0   \n",
       "3          0         0  ...            0                0          0   \n",
       "4          0         0  ...            0                0          0   \n",
       "...      ...       ...  ...          ...              ...        ...   \n",
       "2378       0         0  ...            0                0          0   \n",
       "2379       0         0  ...            0                0          0   \n",
       "2380       0         0  ...            0                0          0   \n",
       "2381       0         0  ...            0                0          0   \n",
       "2382       0         0  ...            0                0          0   \n",
       "\n",
       "      bobby wanzer  boc sound  boca raton  boccherini adagio  \\\n",
       "0                0          0           0                  0   \n",
       "1                0          0           0                  0   \n",
       "2                0          0           0                  0   \n",
       "3                0          0           0                  0   \n",
       "4                0          0           0                  0   \n",
       "...            ...        ...         ...                ...   \n",
       "2378             0          0           0                  0   \n",
       "2379             0          0           0                  0   \n",
       "2380             0          0           0                  0   \n",
       "2381             0          0           0                  0   \n",
       "2382             0          0           0                  0   \n",
       "\n",
       "      boccherini vivaldi  bocelli fans  bocelli simply  \n",
       "0                      0             0               0  \n",
       "1                      0             0               0  \n",
       "2                      0             0               0  \n",
       "3                      0             0               0  \n",
       "4                      0             0               0  \n",
       "...                  ...           ...             ...  \n",
       "2378                   0             0               0  \n",
       "2379                   0             0               0  \n",
       "2380                   0             0               0  \n",
       "2381                   0             0               0  \n",
       "2382                   0             0               0  \n",
       "\n",
       "[2383 rows x 42031 columns]"
      ]
     },
     "execution_count": 12,
     "metadata": {},
     "output_type": "execute_result"
    }
   ],
   "source": [
    "X_test = X_test.iloc[:,:42031]\n",
    "X_test"
   ]
  },
  {
   "cell_type": "code",
   "execution_count": 13,
   "metadata": {},
   "outputs": [
    {
     "data": {
      "text/html": [
       "<div>\n",
       "<style scoped>\n",
       "    .dataframe tbody tr th:only-of-type {\n",
       "        vertical-align: middle;\n",
       "    }\n",
       "\n",
       "    .dataframe tbody tr th {\n",
       "        vertical-align: top;\n",
       "    }\n",
       "\n",
       "    .dataframe thead th {\n",
       "        text-align: right;\n",
       "    }\n",
       "</style>\n",
       "<table border=\"1\" class=\"dataframe\">\n",
       "  <thead>\n",
       "    <tr style=\"text-align: right;\">\n",
       "      <th></th>\n",
       "      <th>00 00</th>\n",
       "      <th>00 22</th>\n",
       "      <th>00 320</th>\n",
       "      <th>00 50</th>\n",
       "      <th>00 8x</th>\n",
       "      <th>00 avoid</th>\n",
       "      <th>00 believe</th>\n",
       "      <th>00 bit</th>\n",
       "      <th>00 bot</th>\n",
       "      <th>00 bucks</th>\n",
       "      <th>...</th>\n",
       "      <th>bobby valentino</th>\n",
       "      <th>bobby vee</th>\n",
       "      <th>bobby wanzer</th>\n",
       "      <th>boc sound</th>\n",
       "      <th>boca raton</th>\n",
       "      <th>boccherini adagio</th>\n",
       "      <th>boccherini vivaldi</th>\n",
       "      <th>bocelli fans</th>\n",
       "      <th>bocelli simply</th>\n",
       "      <th>sentiment_category_label</th>\n",
       "    </tr>\n",
       "  </thead>\n",
       "  <tbody>\n",
       "    <tr>\n",
       "      <th>0</th>\n",
       "      <td>0</td>\n",
       "      <td>0</td>\n",
       "      <td>0</td>\n",
       "      <td>0</td>\n",
       "      <td>0</td>\n",
       "      <td>0</td>\n",
       "      <td>0</td>\n",
       "      <td>0</td>\n",
       "      <td>0</td>\n",
       "      <td>0</td>\n",
       "      <td>...</td>\n",
       "      <td>0</td>\n",
       "      <td>0</td>\n",
       "      <td>0</td>\n",
       "      <td>0</td>\n",
       "      <td>0</td>\n",
       "      <td>0</td>\n",
       "      <td>0</td>\n",
       "      <td>0</td>\n",
       "      <td>0</td>\n",
       "      <td>neg</td>\n",
       "    </tr>\n",
       "    <tr>\n",
       "      <th>1</th>\n",
       "      <td>0</td>\n",
       "      <td>0</td>\n",
       "      <td>0</td>\n",
       "      <td>0</td>\n",
       "      <td>0</td>\n",
       "      <td>0</td>\n",
       "      <td>0</td>\n",
       "      <td>0</td>\n",
       "      <td>0</td>\n",
       "      <td>0</td>\n",
       "      <td>...</td>\n",
       "      <td>0</td>\n",
       "      <td>0</td>\n",
       "      <td>0</td>\n",
       "      <td>0</td>\n",
       "      <td>0</td>\n",
       "      <td>0</td>\n",
       "      <td>0</td>\n",
       "      <td>0</td>\n",
       "      <td>0</td>\n",
       "      <td>pos</td>\n",
       "    </tr>\n",
       "    <tr>\n",
       "      <th>2</th>\n",
       "      <td>0</td>\n",
       "      <td>0</td>\n",
       "      <td>0</td>\n",
       "      <td>0</td>\n",
       "      <td>0</td>\n",
       "      <td>0</td>\n",
       "      <td>0</td>\n",
       "      <td>0</td>\n",
       "      <td>0</td>\n",
       "      <td>0</td>\n",
       "      <td>...</td>\n",
       "      <td>0</td>\n",
       "      <td>0</td>\n",
       "      <td>0</td>\n",
       "      <td>0</td>\n",
       "      <td>0</td>\n",
       "      <td>0</td>\n",
       "      <td>0</td>\n",
       "      <td>0</td>\n",
       "      <td>0</td>\n",
       "      <td>pos</td>\n",
       "    </tr>\n",
       "    <tr>\n",
       "      <th>3</th>\n",
       "      <td>0</td>\n",
       "      <td>0</td>\n",
       "      <td>0</td>\n",
       "      <td>0</td>\n",
       "      <td>0</td>\n",
       "      <td>0</td>\n",
       "      <td>0</td>\n",
       "      <td>0</td>\n",
       "      <td>0</td>\n",
       "      <td>0</td>\n",
       "      <td>...</td>\n",
       "      <td>0</td>\n",
       "      <td>0</td>\n",
       "      <td>0</td>\n",
       "      <td>0</td>\n",
       "      <td>0</td>\n",
       "      <td>0</td>\n",
       "      <td>0</td>\n",
       "      <td>0</td>\n",
       "      <td>0</td>\n",
       "      <td>pos</td>\n",
       "    </tr>\n",
       "    <tr>\n",
       "      <th>4</th>\n",
       "      <td>0</td>\n",
       "      <td>0</td>\n",
       "      <td>0</td>\n",
       "      <td>0</td>\n",
       "      <td>0</td>\n",
       "      <td>0</td>\n",
       "      <td>0</td>\n",
       "      <td>0</td>\n",
       "      <td>0</td>\n",
       "      <td>0</td>\n",
       "      <td>...</td>\n",
       "      <td>0</td>\n",
       "      <td>0</td>\n",
       "      <td>0</td>\n",
       "      <td>0</td>\n",
       "      <td>0</td>\n",
       "      <td>0</td>\n",
       "      <td>0</td>\n",
       "      <td>0</td>\n",
       "      <td>0</td>\n",
       "      <td>pos</td>\n",
       "    </tr>\n",
       "    <tr>\n",
       "      <th>...</th>\n",
       "      <td>...</td>\n",
       "      <td>...</td>\n",
       "      <td>...</td>\n",
       "      <td>...</td>\n",
       "      <td>...</td>\n",
       "      <td>...</td>\n",
       "      <td>...</td>\n",
       "      <td>...</td>\n",
       "      <td>...</td>\n",
       "      <td>...</td>\n",
       "      <td>...</td>\n",
       "      <td>...</td>\n",
       "      <td>...</td>\n",
       "      <td>...</td>\n",
       "      <td>...</td>\n",
       "      <td>...</td>\n",
       "      <td>...</td>\n",
       "      <td>...</td>\n",
       "      <td>...</td>\n",
       "      <td>...</td>\n",
       "      <td>...</td>\n",
       "    </tr>\n",
       "    <tr>\n",
       "      <th>9526</th>\n",
       "      <td>0</td>\n",
       "      <td>0</td>\n",
       "      <td>0</td>\n",
       "      <td>0</td>\n",
       "      <td>0</td>\n",
       "      <td>0</td>\n",
       "      <td>0</td>\n",
       "      <td>0</td>\n",
       "      <td>0</td>\n",
       "      <td>0</td>\n",
       "      <td>...</td>\n",
       "      <td>0</td>\n",
       "      <td>0</td>\n",
       "      <td>0</td>\n",
       "      <td>0</td>\n",
       "      <td>0</td>\n",
       "      <td>0</td>\n",
       "      <td>0</td>\n",
       "      <td>0</td>\n",
       "      <td>0</td>\n",
       "      <td>pos</td>\n",
       "    </tr>\n",
       "    <tr>\n",
       "      <th>9527</th>\n",
       "      <td>0</td>\n",
       "      <td>0</td>\n",
       "      <td>0</td>\n",
       "      <td>0</td>\n",
       "      <td>0</td>\n",
       "      <td>0</td>\n",
       "      <td>0</td>\n",
       "      <td>0</td>\n",
       "      <td>0</td>\n",
       "      <td>0</td>\n",
       "      <td>...</td>\n",
       "      <td>0</td>\n",
       "      <td>0</td>\n",
       "      <td>0</td>\n",
       "      <td>0</td>\n",
       "      <td>0</td>\n",
       "      <td>0</td>\n",
       "      <td>0</td>\n",
       "      <td>0</td>\n",
       "      <td>0</td>\n",
       "      <td>pos</td>\n",
       "    </tr>\n",
       "    <tr>\n",
       "      <th>9528</th>\n",
       "      <td>0</td>\n",
       "      <td>0</td>\n",
       "      <td>0</td>\n",
       "      <td>0</td>\n",
       "      <td>0</td>\n",
       "      <td>0</td>\n",
       "      <td>0</td>\n",
       "      <td>0</td>\n",
       "      <td>0</td>\n",
       "      <td>0</td>\n",
       "      <td>...</td>\n",
       "      <td>0</td>\n",
       "      <td>0</td>\n",
       "      <td>0</td>\n",
       "      <td>0</td>\n",
       "      <td>0</td>\n",
       "      <td>0</td>\n",
       "      <td>0</td>\n",
       "      <td>0</td>\n",
       "      <td>0</td>\n",
       "      <td>neg</td>\n",
       "    </tr>\n",
       "    <tr>\n",
       "      <th>9529</th>\n",
       "      <td>0</td>\n",
       "      <td>0</td>\n",
       "      <td>0</td>\n",
       "      <td>0</td>\n",
       "      <td>0</td>\n",
       "      <td>0</td>\n",
       "      <td>0</td>\n",
       "      <td>0</td>\n",
       "      <td>0</td>\n",
       "      <td>0</td>\n",
       "      <td>...</td>\n",
       "      <td>0</td>\n",
       "      <td>0</td>\n",
       "      <td>0</td>\n",
       "      <td>0</td>\n",
       "      <td>0</td>\n",
       "      <td>0</td>\n",
       "      <td>0</td>\n",
       "      <td>0</td>\n",
       "      <td>0</td>\n",
       "      <td>neg</td>\n",
       "    </tr>\n",
       "    <tr>\n",
       "      <th>9530</th>\n",
       "      <td>0</td>\n",
       "      <td>0</td>\n",
       "      <td>0</td>\n",
       "      <td>0</td>\n",
       "      <td>0</td>\n",
       "      <td>0</td>\n",
       "      <td>0</td>\n",
       "      <td>0</td>\n",
       "      <td>0</td>\n",
       "      <td>0</td>\n",
       "      <td>...</td>\n",
       "      <td>0</td>\n",
       "      <td>0</td>\n",
       "      <td>0</td>\n",
       "      <td>0</td>\n",
       "      <td>0</td>\n",
       "      <td>0</td>\n",
       "      <td>0</td>\n",
       "      <td>0</td>\n",
       "      <td>0</td>\n",
       "      <td>pos</td>\n",
       "    </tr>\n",
       "  </tbody>\n",
       "</table>\n",
       "<p>9531 rows × 42032 columns</p>\n",
       "</div>"
      ],
      "text/plain": [
       "      00 00  00 22  00 320  00 50  00 8x  00 avoid  00 believe  00 bit  \\\n",
       "0         0      0       0      0      0         0           0       0   \n",
       "1         0      0       0      0      0         0           0       0   \n",
       "2         0      0       0      0      0         0           0       0   \n",
       "3         0      0       0      0      0         0           0       0   \n",
       "4         0      0       0      0      0         0           0       0   \n",
       "...     ...    ...     ...    ...    ...       ...         ...     ...   \n",
       "9526      0      0       0      0      0         0           0       0   \n",
       "9527      0      0       0      0      0         0           0       0   \n",
       "9528      0      0       0      0      0         0           0       0   \n",
       "9529      0      0       0      0      0         0           0       0   \n",
       "9530      0      0       0      0      0         0           0       0   \n",
       "\n",
       "      00 bot  00 bucks  ...  bobby valentino  bobby vee  bobby wanzer  \\\n",
       "0          0         0  ...                0          0             0   \n",
       "1          0         0  ...                0          0             0   \n",
       "2          0         0  ...                0          0             0   \n",
       "3          0         0  ...                0          0             0   \n",
       "4          0         0  ...                0          0             0   \n",
       "...      ...       ...  ...              ...        ...           ...   \n",
       "9526       0         0  ...                0          0             0   \n",
       "9527       0         0  ...                0          0             0   \n",
       "9528       0         0  ...                0          0             0   \n",
       "9529       0         0  ...                0          0             0   \n",
       "9530       0         0  ...                0          0             0   \n",
       "\n",
       "      boc sound  boca raton  boccherini adagio  boccherini vivaldi  \\\n",
       "0             0           0                  0                   0   \n",
       "1             0           0                  0                   0   \n",
       "2             0           0                  0                   0   \n",
       "3             0           0                  0                   0   \n",
       "4             0           0                  0                   0   \n",
       "...         ...         ...                ...                 ...   \n",
       "9526          0           0                  0                   0   \n",
       "9527          0           0                  0                   0   \n",
       "9528          0           0                  0                   0   \n",
       "9529          0           0                  0                   0   \n",
       "9530          0           0                  0                   0   \n",
       "\n",
       "      bocelli fans  bocelli simply  sentiment_category_label  \n",
       "0                0               0                       neg  \n",
       "1                0               0                       pos  \n",
       "2                0               0                       pos  \n",
       "3                0               0                       pos  \n",
       "4                0               0                       pos  \n",
       "...            ...             ...                       ...  \n",
       "9526             0               0                       pos  \n",
       "9527             0               0                       pos  \n",
       "9528             0               0                       neg  \n",
       "9529             0               0                       neg  \n",
       "9530             0               0                       pos  \n",
       "\n",
       "[9531 rows x 42032 columns]"
      ]
     },
     "execution_count": 13,
     "metadata": {},
     "output_type": "execute_result"
    }
   ],
   "source": [
    "y_train = np.array(y_train, dtype='object')\n",
    "y_test = np.array(y_test, dtype='object')\n",
    "X_train"
   ]
  },
  {
   "cell_type": "code",
   "execution_count": 17,
   "metadata": {},
   "outputs": [],
   "source": [
    "nb_clf_for_categories = NaiveBayesClassifier()"
   ]
  },
  {
   "cell_type": "code",
   "execution_count": 18,
   "metadata": {},
   "outputs": [
    {
     "name": "stdout",
     "output_type": "stream",
     "text": [
      "{'neg': 0.49606547056971984, 'pos': 0.5039345294302802}\n"
     ]
    }
   ],
   "source": [
    "prior_category, prob_word_given_category,vocabularies,outcomesCategoryPD = nb_clf_for_categories.fit(X_train,y_train,clf_label+\"_label\")"
   ]
  },
  {
   "cell_type": "code",
   "execution_count": 19,
   "metadata": {},
   "outputs": [
    {
     "name": "stdout",
     "output_type": "stream",
     "text": [
      "1\n"
     ]
    }
   ],
   "source": [
    "y_pred = nb_clf_for_categories.predict(X_test)"
   ]
  },
  {
   "cell_type": "code",
   "execution_count": 20,
   "metadata": {},
   "outputs": [],
   "source": [
    "accuracy = calculate_accuracy(y_test, y_pred)"
   ]
  },
  {
   "cell_type": "code",
   "execution_count": 21,
   "metadata": {},
   "outputs": [
    {
     "name": "stdout",
     "output_type": "stream",
     "text": [
      "0.5971464540495174\n"
     ]
    }
   ],
   "source": [
    "print(accuracy)"
   ]
  },
  {
   "cell_type": "code",
   "execution_count": 22,
   "metadata": {},
   "outputs": [],
   "source": [
    "def printConfusionMatrix(y_pred, y_test):\n",
    "    print(confusion_matrix(y_test, y_pred))\n",
    "    print(classification_report(y_test, y_pred))"
   ]
  },
  {
   "cell_type": "code",
   "execution_count": 23,
   "metadata": {},
   "outputs": [
    {
     "name": "stdout",
     "output_type": "stream",
     "text": [
      "[[466 720]\n",
      " [240 957]]\n",
      "              precision    recall  f1-score   support\n",
      "\n",
      "         neg       0.66      0.39      0.49      1186\n",
      "         pos       0.57      0.80      0.67      1197\n",
      "\n",
      "    accuracy                           0.60      2383\n",
      "   macro avg       0.62      0.60      0.58      2383\n",
      "weighted avg       0.62      0.60      0.58      2383\n",
      "\n"
     ]
    }
   ],
   "source": [
    "from sklearn.metrics import classification_report, confusion_matrix\n",
    "printConfusionMatrix(y_pred, y_test)"
   ]
  },
  {
   "cell_type": "code",
   "execution_count": 24,
   "metadata": {},
   "outputs": [
    {
     "name": "stdout",
     "output_type": "stream",
     "text": [
      "P(word='battery life'|label = pos) = -7.152834257809046\n",
      "P(word='10 years'|label = pos) = -8.00632408844417\n",
      "P(word='absolutely love'|label = pos) = -8.050775851015004\n",
      "P(word='big fan'|label = pos) = -8.050775851015004\n",
      "P(word='black white'|label = pos) = -8.050775851015004\n",
      "P(word='20 years'|label = pos) = -8.19737932520688\n",
      "P(word='adobe photoshop'|label = pos) = -8.19737932520688\n",
      "P(word='beginning end'|label = pos) = -8.19737932520688\n",
      "P(word='blood pressure'|label = pos) = -8.19737932520688\n",
      "P(word='20 minutes'|label = pos) = -8.251446546477155\n"
     ]
    }
   ],
   "source": [
    "cond_pos = dict(sorted(prob_word_given_category[\"pos\"].items(), key=lambda item: item[1], reverse=True))\n",
    "count = 1\n",
    "for key in cond_pos:\n",
    "    print(\"P(word='{}'|{}) = {}\".format(key,\"label = pos\",cond_pos[key]))\n",
    "    if(count == 10): break\n",
    "    count+=1"
   ]
  },
  {
   "cell_type": "code",
   "execution_count": 25,
   "metadata": {},
   "outputs": [
    {
     "name": "stdout",
     "output_type": "stream",
     "text": [
      "P(word='amazon com'|label = neg) = -7.8809206237447995\n",
      "P(word='anti virus'|label = neg) = -7.8809206237447995\n",
      "P(word='blood pressure'|label = neg) = -7.8809206237447995\n",
      "P(word='10 minutes'|label = neg) = -7.960963331418336\n",
      "P(word='15 minutes'|label = neg) = -8.003522945837132\n",
      "P(word='big fan'|label = neg) = -8.003522945837132\n",
      "P(word='10 years'|label = neg) = -8.047974708407965\n",
      "P(word='big mistake'|label = neg) = -8.14328488821229\n",
      "P(word='better quality'|label = neg) = -8.194578182599841\n",
      "P(word='20 minutes'|label = neg) = -8.248645403870118\n"
     ]
    }
   ],
   "source": [
    "cond_neg = dict(sorted(prob_word_given_category[\"neg\"].items(), key=lambda item: item[1], reverse=True))\n",
    "count = 1\n",
    "for key in cond_neg:\n",
    "    print(\"P(word='{}'|{}) = {}\".format(key,\"label = neg\",cond_neg[key]))\n",
    "    if(count == 10): break\n",
    "    count+=1"
   ]
  },
  {
   "cell_type": "code",
   "execution_count": null,
   "metadata": {},
   "outputs": [],
   "source": []
  }
 ],
 "metadata": {
  "kernelspec": {
   "display_name": "Python 3",
   "language": "python",
   "name": "python3"
  },
  "language_info": {
   "codemirror_mode": {
    "name": "ipython",
    "version": 3
   },
   "file_extension": ".py",
   "mimetype": "text/x-python",
   "name": "python",
   "nbconvert_exporter": "python",
   "pygments_lexer": "ipython3",
   "version": "3.8.5"
  }
 },
 "nbformat": 4,
 "nbformat_minor": 4
}
